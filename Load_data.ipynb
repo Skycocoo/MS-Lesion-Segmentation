{
 "cells": [
  {
   "cell_type": "code",
   "execution_count": 1,
   "metadata": {},
   "outputs": [
    {
     "name": "stdout",
     "output_type": "stream",
     "text": [
      "(128, 256, 256) (5, 2, 128, 256, 256)\n",
      "(192, 512, 512) (5, 2, 192, 512, 512)\n",
      "(320, 384, 384) (5, 2, 320, 384, 384)\n",
      "patch_size (3,)\n"
     ]
    }
   ],
   "source": [
    "from model.data import *\n",
    "\n",
    "d = Data()\n",
    "d.load_data((64, 64, 64))\n",
    "\n",
    "for i in d.data:\n",
    "    print(i, d.data[i].shape)"
   ]
  },
  {
   "cell_type": "code",
   "execution_count": 2,
   "metadata": {},
   "outputs": [
    {
     "name": "stdout",
     "output_type": "stream",
     "text": [
      "(128, 256, 256)\n"
     ]
    }
   ],
   "source": [
    "image = d.data[\"(128, 256, 256)\"][0][0]\n",
    "print(image.shape)"
   ]
  },
  {
   "cell_type": "code",
   "execution_count": 3,
   "metadata": {},
   "outputs": [
    {
     "name": "stdout",
     "output_type": "stream",
     "text": [
      "count:  2880\n",
      "count:  34240\n",
      "count:  66240\n",
      "count:  66240\n",
      "{'(128, 256, 256)': array([1, 2, 1, 3, 3]), '(192, 512, 512)': array([0, 0, 3, 0, 2]), '(320, 384, 384)': array([0, 0, 3, 2, 1]), 'patch_size': array([4, 3, 0, 2, 1])}\n"
     ]
    },
    {
     "data": {
      "text/plain": [
       "(5299, 13248)"
      ]
     },
     "execution_count": 3,
     "metadata": {},
     "output_type": "execute_result"
    }
   ],
   "source": [
    "d.prekfold((64, 64, 64), 16, 10)"
   ]
  },
  {
   "cell_type": "code",
   "execution_count": 4,
   "metadata": {},
   "outputs": [],
   "source": [
    "# print(\"shape of patch_index: \", np.array(patch_index).shape)\n",
    "# for i in range(20):\n",
    "#     print(patch_index[i])\n",
    "# random_patch_index = random.sample(patch_index, len(patch_index))\n",
    "# print(\"---------------\")\n",
    "# for i in range(20):\n",
    "#     print(random_patch_index[i])"
   ]
  },
  {
   "cell_type": "code",
   "execution_count": 5,
   "metadata": {},
   "outputs": [],
   "source": [
    "# arr = np.arange(10)\n",
    "# print(np.copy(arr))\n",
    "\n",
    "# # cp = []\n",
    "# # for i in range(5):\n",
    "# #     cp.append(np.random.choice(np.copy(arr), len(arr)))\n",
    "# # print(cp)\n",
    "# print([np.random.choice(np.copy(arr), len(arr)) for _ in range(5)])"
   ]
  },
  {
   "cell_type": "code",
   "execution_count": null,
   "metadata": {},
   "outputs": [],
   "source": []
  }
 ],
 "metadata": {
  "kernelspec": {
   "display_name": "Python 3",
   "language": "python",
   "name": "python3"
  },
  "language_info": {
   "codemirror_mode": {
    "name": "ipython",
    "version": 3
   },
   "file_extension": ".py",
   "mimetype": "text/x-python",
   "name": "python",
   "nbconvert_exporter": "python",
   "pygments_lexer": "ipython3",
   "version": "3.6.8"
  }
 },
 "nbformat": 4,
 "nbformat_minor": 2
}
