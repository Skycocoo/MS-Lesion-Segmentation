{
 "cells": [
  {
   "cell_type": "code",
   "execution_count": 1,
   "metadata": {},
   "outputs": [
    {
     "name": "stdout",
     "output_type": "stream",
     "text": [
      "(128, 256, 256) <HDF5 dataset \"(128, 256, 256)\": shape (5, 2, 128, 256, 256), type \"<f8\">\n",
      "(192, 512, 512) <HDF5 dataset \"(192, 512, 512)\": shape (5, 2, 192, 512, 512), type \"<f8\">\n",
      "(320, 384, 384) <HDF5 dataset \"(320, 384, 384)\": shape (5, 2, 320, 384, 384), type \"<f8\">\n",
      "patch_size <HDF5 dataset \"patch_size\": shape (3,), type \"<i8\">\n"
     ]
    }
   ],
   "source": [
    "from model.data import *\n",
    "\n",
    "d = Data()\n",
    "d.load_data((64, 64, 64))\n",
    "\n",
    "for i in d.data:\n",
    "    print(i, d.data[i])"
   ]
  },
  {
   "cell_type": "code",
   "execution_count": 2,
   "metadata": {},
   "outputs": [
    {
     "name": "stdout",
     "output_type": "stream",
     "text": [
      "(128, 256, 256)\n"
     ]
    }
   ],
   "source": [
    "image = d.data[\"(128, 256, 256)\"][0][0]\n",
    "print(image.shape)"
   ]
  },
  {
   "cell_type": "code",
   "execution_count": 4,
   "metadata": {},
   "outputs": [
    {
     "name": "stdout",
     "output_type": "stream",
     "text": [
      "(6272, 3)\n",
      "(6400, 3)\n",
      "(51200, 3)\n",
      "(576, 3)\n"
     ]
    }
   ],
   "source": [
    "d.gen_patch_indices((64, 64, 64), 16)"
   ]
  },
  {
   "cell_type": "code",
   "execution_count": 31,
   "metadata": {},
   "outputs": [
    {
     "name": "stdout",
     "output_type": "stream",
     "text": [
      "[8, 24, 24]\n"
     ]
    }
   ],
   "source": [
    "patch_size = 64\n",
    "patch_gap = 8\n",
    "patch_index = []\n",
    "patch_num = [int((i-patch_size) / patch_gap) for i in image.shape]\n",
    "\n",
    "print(patch_num)\n",
    "# assume this is a 3d image\n",
    "for i in range(patch_num[0]):\n",
    "    for j in range(patch_num[1]):\n",
    "        for k in range(patch_num[2]):\n",
    "            patch_index.append([i * patch_gap, j * patch_gap, k * patch_gap])"
   ]
  },
  {
   "cell_type": "code",
   "execution_count": 32,
   "metadata": {},
   "outputs": [
    {
     "name": "stdout",
     "output_type": "stream",
     "text": [
      "shape of patch_index:  (4608, 3)\n",
      "[0, 0, 0]\n",
      "[0, 0, 8]\n",
      "[0, 0, 16]\n",
      "[0, 0, 24]\n",
      "[0, 0, 32]\n",
      "[0, 0, 40]\n",
      "[0, 0, 48]\n",
      "[0, 0, 56]\n",
      "[0, 0, 64]\n",
      "[0, 0, 72]\n",
      "[0, 0, 80]\n",
      "[0, 0, 88]\n",
      "[0, 0, 96]\n",
      "[0, 0, 104]\n",
      "[0, 0, 112]\n",
      "[0, 0, 120]\n",
      "[0, 0, 128]\n",
      "[0, 0, 136]\n",
      "[0, 0, 144]\n",
      "[0, 0, 152]\n",
      "---------------\n",
      "[48, 184, 24]\n",
      "[48, 160, 120]\n",
      "[24, 72, 168]\n",
      "[40, 144, 40]\n",
      "[40, 0, 40]\n",
      "[32, 8, 88]\n",
      "[24, 48, 168]\n",
      "[56, 152, 104]\n",
      "[32, 56, 80]\n",
      "[48, 160, 80]\n",
      "[40, 8, 24]\n",
      "[8, 96, 40]\n",
      "[8, 40, 128]\n",
      "[40, 8, 104]\n",
      "[56, 152, 136]\n",
      "[48, 88, 184]\n",
      "[48, 152, 0]\n",
      "[8, 80, 168]\n",
      "[48, 88, 0]\n",
      "[32, 80, 152]\n"
     ]
    }
   ],
   "source": [
    "# print(\"shape of patch_index: \", np.array(patch_index).shape)\n",
    "# for i in range(20):\n",
    "#     print(patch_index[i])\n",
    "# random_patch_index = random.sample(patch_index, len(patch_index))\n",
    "# print(\"---------------\")\n",
    "# for i in range(20):\n",
    "#     print(random_patch_index[i])"
   ]
  },
  {
   "cell_type": "code",
   "execution_count": null,
   "metadata": {},
   "outputs": [],
   "source": []
  }
 ],
 "metadata": {
  "kernelspec": {
   "display_name": "Python 3",
   "language": "python",
   "name": "python3"
  },
  "language_info": {
   "codemirror_mode": {
    "name": "ipython",
    "version": 3
   },
   "file_extension": ".py",
   "mimetype": "text/x-python",
   "name": "python",
   "nbconvert_exporter": "python",
   "pygments_lexer": "ipython3",
   "version": "3.6.8"
  }
 },
 "nbformat": 4,
 "nbformat_minor": 2
}
