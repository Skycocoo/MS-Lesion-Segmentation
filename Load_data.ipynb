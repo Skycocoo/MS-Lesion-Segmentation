{
 "cells": [
  {
   "cell_type": "code",
   "execution_count": 1,
   "metadata": {},
   "outputs": [
    {
     "name": "stderr",
     "output_type": "stream",
     "text": [
      "/usr/local/lib/python3.6/site-packages/h5py/__init__.py:36: FutureWarning: Conversion of the second argument of issubdtype from `float` to `np.floating` is deprecated. In future, it will be treated as `np.float64 == np.dtype(float).type`.\n",
      "  from ._conv import register_converters as _register_converters\n"
     ]
    },
    {
     "name": "stdout",
     "output_type": "stream",
     "text": [
      "(128, 224, 256) <HDF5 dataset \"(128, 224, 256)\": shape (5, 2, 128, 224, 256), type \"<f8\">\n",
      "(144, 512, 512) <HDF5 dataset \"(144, 512, 512)\": shape (5, 2, 144, 512, 512), type \"<f8\">\n",
      "(261, 336, 336) <HDF5 dataset \"(261, 336, 336)\": shape (5, 2, 261, 336, 336), type \"<f8\">\n"
     ]
    }
   ],
   "source": [
    "from model.data import *\n",
    "\n",
    "d = Data()\n",
    "d.load_data()\n",
    "\n",
    "for i in d.data:\n",
    "    print(i, d.data[i])"
   ]
  },
  {
   "cell_type": "code",
   "execution_count": 1,
   "metadata": {},
   "outputs": [
    {
     "ename": "NameError",
     "evalue": "name 'd' is not defined",
     "output_type": "error",
     "traceback": [
      "\u001b[0;31m---------------------------------------------------------------------------\u001b[0m",
      "\u001b[0;31mNameError\u001b[0m                                 Traceback (most recent call last)",
      "\u001b[0;32m<ipython-input-1-b4ab6a0f5470>\u001b[0m in \u001b[0;36m<module>\u001b[0;34m()\u001b[0m\n\u001b[0;32m----> 1\u001b[0;31m \u001b[0mimage\u001b[0m \u001b[0;34m=\u001b[0m \u001b[0md\u001b[0m\u001b[0;34m.\u001b[0m\u001b[0mdata\u001b[0m\u001b[0;34m[\u001b[0m\u001b[0;34m'(261, 336, 336)'\u001b[0m\u001b[0;34m]\u001b[0m\u001b[0;34m[\u001b[0m\u001b[0;36m0\u001b[0m\u001b[0;34m]\u001b[0m\u001b[0;34m[\u001b[0m\u001b[0;36m0\u001b[0m\u001b[0;34m]\u001b[0m\u001b[0;34m\u001b[0m\u001b[0m\n\u001b[0m\u001b[1;32m      2\u001b[0m \u001b[0mimage\u001b[0m \u001b[0;34m=\u001b[0m \u001b[0md\u001b[0m\u001b[0;34m.\u001b[0m\u001b[0mzero_pad\u001b[0m\u001b[0;34m(\u001b[0m\u001b[0mimage\u001b[0m\u001b[0;34m)\u001b[0m\u001b[0;34m\u001b[0m\u001b[0m\n\u001b[1;32m      3\u001b[0m \u001b[0mprint\u001b[0m\u001b[0;34m(\u001b[0m\u001b[0mimage\u001b[0m\u001b[0;34m.\u001b[0m\u001b[0mshape\u001b[0m\u001b[0;34m)\u001b[0m\u001b[0;34m\u001b[0m\u001b[0m\n\u001b[1;32m      4\u001b[0m \u001b[0md\u001b[0m\u001b[0;34m.\u001b[0m\u001b[0mshow_image\u001b[0m\u001b[0;34m(\u001b[0m\u001b[0;34m[\u001b[0m\u001b[0mimage\u001b[0m\u001b[0;34m[\u001b[0m\u001b[0;32mNone\u001b[0m\u001b[0;34m,\u001b[0m \u001b[0;32mNone\u001b[0m\u001b[0;34m,\u001b[0m \u001b[0;34m:\u001b[0m\u001b[0;34m,\u001b[0m \u001b[0;34m:\u001b[0m\u001b[0;34m,\u001b[0m \u001b[0;34m:\u001b[0m\u001b[0;34m]\u001b[0m\u001b[0;34m]\u001b[0m\u001b[0;34m)\u001b[0m\u001b[0;34m\u001b[0m\u001b[0m\n",
      "\u001b[0;31mNameError\u001b[0m: name 'd' is not defined"
     ]
    }
   ],
   "source": [
    "image = d.data['(261, 336, 336)'][0][0]\n",
    "image = d.zero_pad(image)\n",
    "print(image.shape)\n",
    "d.show_image([image[None, None, :, :, :]])"
   ]
  },
  {
   "cell_type": "code",
   "execution_count": 2,
   "metadata": {},
   "outputs": [],
   "source": [
    "pad_data = defaultdict(list)\n",
    "\n",
    "for i in d.data.keys():\n",
    "    for j in range(d.data[i].shape[0]):\n",
    "        img = d.zero_pad(d.data[i][j][0])\n",
    "        tar = d.zero_pad(d.data[i][j][1])\n",
    "        pad_data[img.shape].append([img, tar])\n",
    "#             # print(d.data[i][j][0].shape)\n",
    "#             d.data[i][j][0] = d.zero_pad(d.data[i][j][0])\n",
    "#             d.data[i][j][1] = d.zero_pad(d.data[i][j][1])\n",
    "#              self.data[image.shape].append([image.get_fdata(),\n",
    "#                                                            segment.get_fdata()])"
   ]
  },
  {
   "cell_type": "code",
   "execution_count": 3,
   "metadata": {},
   "outputs": [
    {
     "name": "stdout",
     "output_type": "stream",
     "text": [
      "(128, 224, 256) (5, 2, 128, 224, 256)\n",
      "(160, 512, 512) (5, 2, 160, 512, 512)\n",
      "(288, 352, 352) (5, 2, 288, 352, 352)\n"
     ]
    }
   ],
   "source": [
    "for i in pad_data:\n",
    "    print(i, np.array(pad_data[i]).shape)"
   ]
  },
  {
   "cell_type": "code",
   "execution_count": 4,
   "metadata": {},
   "outputs": [],
   "source": [
    "with h5py.File(\"./model/h5df_data/pad_data.h5\", 'w') as f:\n",
    "    f.create_dataset(\"patch_size\", data=[32, 32, 32])    \n",
    "    for i in pad_data:\n",
    "        f.create_dataset(str(i), data=pad_data[i])"
   ]
  },
  {
   "cell_type": "code",
   "execution_count": null,
   "metadata": {},
   "outputs": [],
   "source": [
    "# with h5py.File(\"./model/h5df_data/pad_data.h5\", 'a') as f:\n",
    "#     f.create_dataset(\"patch_size\", data=[32, 32, 32])"
   ]
  },
  {
   "cell_type": "code",
   "execution_count": 5,
   "metadata": {},
   "outputs": [
    {
     "name": "stdout",
     "output_type": "stream",
     "text": [
      "(128, 224, 256) <HDF5 dataset \"(128, 224, 256)\": shape (5, 2, 128, 224, 256), type \"<f8\">\n",
      "(160, 512, 512) <HDF5 dataset \"(160, 512, 512)\": shape (5, 2, 160, 512, 512), type \"<f8\">\n",
      "(288, 352, 352) <HDF5 dataset \"(288, 352, 352)\": shape (5, 2, 288, 352, 352), type \"<f8\">\n",
      "patch_size <HDF5 dataset \"patch_size\": shape (3,), type \"<i8\">\n"
     ]
    }
   ],
   "source": [
    "with h5py.File(\"./model/h5df_data/pad_data.h5\", 'r') as f:\n",
    "    for i in f.keys():\n",
    "        print(i, f[i])"
   ]
  },
  {
   "cell_type": "code",
   "execution_count": 7,
   "metadata": {},
   "outputs": [
    {
     "name": "stdout",
     "output_type": "stream",
     "text": [
      "patch_size [32 32 32]\n"
     ]
    }
   ],
   "source": [
    "# with h5py.File(\"./model/h5df_data/test.h5\", 'w') as f:\n",
    "#     f.create_dataset(\"patch_size\", data=(32, 32, 32))    \n",
    "# with h5py.File(\"./model/h5df_data/test.h5\", 'r') as f:\n",
    "#     for i in f.keys():\n",
    "#         print(i, f[i][:])"
   ]
  },
  {
   "cell_type": "code",
   "execution_count": null,
   "metadata": {},
   "outputs": [],
   "source": []
  }
 ],
 "metadata": {
  "kernelspec": {
   "display_name": "Python 3",
   "language": "python",
   "name": "python3"
  },
  "language_info": {
   "codemirror_mode": {
    "name": "ipython",
    "version": 3
   },
   "file_extension": ".py",
   "mimetype": "text/x-python",
   "name": "python",
   "nbconvert_exporter": "python",
   "pygments_lexer": "ipython3",
   "version": "3.6.4"
  }
 },
 "nbformat": 4,
 "nbformat_minor": 2
}
