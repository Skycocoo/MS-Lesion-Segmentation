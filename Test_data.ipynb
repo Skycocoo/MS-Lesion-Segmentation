{
 "cells": [
  {
   "cell_type": "code",
   "execution_count": 1,
   "metadata": {},
   "outputs": [
    {
     "name": "stderr",
     "output_type": "stream",
     "text": [
      "Using TensorFlow backend.\n"
     ]
    },
    {
     "name": "stdout",
     "output_type": "stream",
     "text": [
      "data:\n",
      "(128, 256, 256) <HDF5 dataset \"(128, 256, 256)\": shape (5, 2, 128, 256, 256), type \"<f8\">\n",
      "(192, 512, 512) <HDF5 dataset \"(192, 512, 512)\": shape (5, 2, 192, 512, 512), type \"<f8\">\n",
      "(320, 384, 384) <HDF5 dataset \"(320, 384, 384)\": shape (5, 2, 320, 384, 384), type \"<f8\">\n",
      "patch_size <HDF5 dataset \"patch_size\": shape (3,), type \"<i8\">\n"
     ]
    }
   ],
   "source": [
    "from model.data import *\n",
    "\n",
    "d = Data()\n",
    "d.load_data((64, 64, 64))\n",
    "print(\"data:\")\n",
    "for i in d.data:\n",
    "    print(i, d.data[i])\n"
   ]
  },
  {
   "cell_type": "code",
   "execution_count": 5,
   "metadata": {},
   "outputs": [
    {
     "name": "stdout",
     "output_type": "stream",
     "text": [
      "5299 1324\n",
      "patch:\n",
      "(128, 256, 256) <HDF5 dataset \"(128, 256, 256)\": shape (5, 576, 3), type \"<i8\">\n",
      "(192, 512, 512) <HDF5 dataset \"(192, 512, 512)\": shape (5, 6272, 3), type \"<i8\">\n",
      "(320, 384, 384) <HDF5 dataset \"(320, 384, 384)\": shape (5, 6400, 3), type \"<i8\">\n",
      "count <HDF5 dataset \"count\": shape (), type \"<i8\">\n",
      "patch_gap <HDF5 dataset \"patch_gap\": shape (), type \"<i8\">\n",
      "patch_size <HDF5 dataset \"patch_size\": shape (3,), type \"<i8\">\n",
      "valid:\n",
      "(128, 256, 256) [0, 4, 2, 1, 3]\n",
      "(192, 512, 512) [0, 2, 4, 3, 1]\n",
      "(320, 384, 384) [2, 3, 4, 1, 0]\n"
     ]
    }
   ],
   "source": [
    "train, valid = d.prekfold((64, 64, 64), 16, 10)\n",
    "\n",
    "print(train, valid)\n",
    "\n",
    "print(\"patch:\")\n",
    "for i in d.patch_index:\n",
    "    print(i, d.patch_index[i])\n",
    "print(\"valid:\")\n",
    "for i in d.valid_index:\n",
    "    print(i, d.valid_index[i])"
   ]
  },
  {
   "cell_type": "code",
   "execution_count": 6,
   "metadata": {},
   "outputs": [],
   "source": [
    "# batch_size  patch_gap\n",
    "train_generator = DataGenerator(d.data, d.patch_index, d.kfold, d.batch_size, \n",
    "                                d.patch_size, d.patch_gap, d.valid_index, False)\n",
    "\n",
    "train_generator.set_index(0)"
   ]
  },
  {
   "cell_type": "code",
   "execution_count": 7,
   "metadata": {},
   "outputs": [
    {
     "name": "stdout",
     "output_type": "stream",
     "text": [
      "1324\n"
     ]
    }
   ],
   "source": [
    "# print(d.patch_index)\n",
    "# print(train_generator.valid_index)\n",
    "# for i in train_generator.data:\n",
    "#     print(i, train_generator.data[i])\n",
    "print(train_generator.__len__())"
   ]
  },
  {
   "cell_type": "code",
   "execution_count": null,
   "metadata": {},
   "outputs": [],
   "source": []
  }
 ],
 "metadata": {
  "kernelspec": {
   "display_name": "Python 3",
   "language": "python",
   "name": "python3"
  },
  "language_info": {
   "codemirror_mode": {
    "name": "ipython",
    "version": 3
   },
   "file_extension": ".py",
   "mimetype": "text/x-python",
   "name": "python",
   "nbconvert_exporter": "python",
   "pygments_lexer": "ipython3",
   "version": "3.6.8"
  }
 },
 "nbformat": 4,
 "nbformat_minor": 2
}
