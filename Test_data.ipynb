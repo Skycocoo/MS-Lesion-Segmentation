{
 "cells": [
  {
   "cell_type": "code",
   "execution_count": 1,
   "metadata": {},
   "outputs": [
    {
     "data": {
      "text/plain": [
       "<Figure size 640x480 with 2 Axes>"
      ]
     },
     "metadata": {},
     "output_type": "display_data"
    }
   ],
   "source": [
    "from scipy import ndimage, misc\n",
    "import matplotlib.pyplot as plt\n",
    "\n",
    "fig = plt.figure()\n",
    "ax1 = fig.add_subplot(121)  # left side\n",
    "ax2 = fig.add_subplot(122)  # right side\n",
    "ascent = misc.ascent()\n",
    "result = ndimage.zoom(ndimage.zoom(ascent, 3.0), 1/3)\n",
    "ax1.imshow(ascent)\n",
    "ax2.imshow(result)\n",
    "plt.show()"
   ]
  },
  {
   "cell_type": "code",
   "execution_count": 2,
   "metadata": {},
   "outputs": [],
   "source": [
    "config = {}\n",
    "config[\"k_fold\"] = 5\n",
    "config[\"batch_size\"] = 1\n",
    "config[\"patch_shape\"] = (32, 32, 32)  # switch to None to train on the whole image"
   ]
  },
  {
   "cell_type": "code",
   "execution_count": 3,
   "metadata": {},
   "outputs": [
    {
     "data": {
      "application/vnd.jupyter.widget-view+json": {
       "model_id": "608c3c083f0244b7b66bd58b6a41ec82",
       "version_major": 2,
       "version_minor": 0
      },
      "text/plain": [
       "interactive(children=(IntSlider(value=72, description='id', max=143), Output()), _dom_classes=('widget-interac…"
      ]
     },
     "metadata": {},
     "output_type": "display_data"
    },
    {
     "data": {
      "application/vnd.jupyter.widget-view+json": {
       "model_id": "818c0f65005f4b8f964ecf27f7938488",
       "version_major": 2,
       "version_minor": 0
      },
      "text/plain": [
       "interactive(children=(IntSlider(value=16, description='id', max=31), Output()), _dom_classes=('widget-interact…"
      ]
     },
     "metadata": {},
     "output_type": "display_data"
    }
   ],
   "source": [
    "from model.load_data import *\n",
    "\n",
    "d = Data()\n",
    "d.load_data()\n",
    "\n",
    "train_num, valid_num = d.prekfold(config[\"k_fold\"], config[\"batch_size\"])\n",
    "sel = next(iter(d.valid_index))\n",
    "image = d.data[sel][0][0]\n",
    "target = d.data[sel][0][1]\n",
    "d.show_image([image[None, None, :, :, :], target[None, None, :, :, :]])\n",
    "\n",
    "shape = image.shape\n",
    "zoom_image = ndimage.zoom(image, (32/shape[0], 32/shape[1], 32/shape[2]))\n",
    "zoom_target = ndimage.zoom(target, (32/shape[0], 32/shape[1], 32/shape[2]))\n",
    "d.show_image([zoom_image[None, None, :, :, :], zoom_target[None, None, :, :, :]])\n",
    "# buggy ndimage.zoom \n"
   ]
  },
  {
   "cell_type": "code",
   "execution_count": null,
   "metadata": {},
   "outputs": [],
   "source": [
    "train_num, valid_num = d.prekfold(config[\"k_fold\"], config[\"batch_size\"])\n",
    "d.preprocess(batch_size=config[\"batch_size\"], config[\"patch_shape\"])"
   ]
  },
  {
   "cell_type": "code",
   "execution_count": null,
   "metadata": {},
   "outputs": [],
   "source": [
    "for i in d.data:\n",
    "    print(\"data shape: {0} * {1}\".format(i, len(d.data[i])))\n",
    "    \n",
    "for img, tar in d.train_generator(0, config[\"batch_size\"]):\n",
    "    print(img.shape, tar.shape)"
   ]
  },
  {
   "cell_type": "code",
   "execution_count": null,
   "metadata": {},
   "outputs": [],
   "source": []
  }
 ],
 "metadata": {
  "kernelspec": {
   "display_name": "Python 3",
   "language": "python",
   "name": "python3"
  },
  "language_info": {
   "codemirror_mode": {
    "name": "ipython",
    "version": 3
   },
   "file_extension": ".py",
   "mimetype": "text/x-python",
   "name": "python",
   "nbconvert_exporter": "python",
   "pygments_lexer": "ipython3",
   "version": "3.6.8"
  }
 },
 "nbformat": 4,
 "nbformat_minor": 2
}
