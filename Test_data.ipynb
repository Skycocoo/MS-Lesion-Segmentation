{
 "cells": [
  {
   "cell_type": "code",
   "execution_count": 1,
   "metadata": {},
   "outputs": [],
   "source": [
    "from model.load_data import *\n",
    "\n",
    "d = Data()\n",
    "d.load_data()"
   ]
  },
  {
   "cell_type": "code",
   "execution_count": null,
   "metadata": {},
   "outputs": [],
   "source": [
    "config = {}\n",
    "config[\"k_fold\"] = 5\n",
    "config[\"pool_size\"] = (2, 2, 2)  # pool size for the max pooling operations\n",
    "config[\"batch_size\"] = 1\n",
    "config[\"depth\"] = 4 # depth of layers for V/Unet\n",
    "\n",
    "d.preprocess(kfold=config[\"k_fold\"], \n",
    "            batch_size=config[\"batch_size\"], \n",
    "            pool_size=config[\"pool_size\"], \n",
    "            depth=config[\"depth\"])\n"
   ]
  },
  {
   "cell_type": "code",
   "execution_count": null,
   "metadata": {},
   "outputs": [],
   "source": [
    "for i in d.data:\n",
    "    print(\"data shape: {0} * {1}\".format(i, len(d.data[i])))\n",
    "    \n",
    "for img, tar in d.train_generator(0, config[\"batch_size\"]):\n",
    "    print(img.shape, tar.shape)"
   ]
  },
  {
   "cell_type": "code",
   "execution_count": 23,
   "metadata": {},
   "outputs": [
    {
     "data": {
      "application/vnd.jupyter.widget-view+json": {
       "model_id": "5861f6673b4d4b688b8887a561bb031c",
       "version_major": 2,
       "version_minor": 0
      },
      "text/plain": [
       "interactive(children=(IntSlider(value=100, description='id', max=143), Output()), _dom_classes=('widget-intera…"
      ]
     },
     "metadata": {},
     "output_type": "display_data"
    }
   ],
   "source": [
    "\n",
    "# for j in d.valid_index:\n",
    "#     valid = d.data[j][0] # validation set, kfold 0\n",
    "#     shape = valid[0].shape\n",
    "#     input = np.array([np.expand_dims(ndimage.zoom(valid[0], (32/shape[0], 32/shape[1], 32/shape[2])), axis=0)])\n",
    "#     target.append(np.expand_dims(ndimage.zoom(valid[1], (32/shape[0], 32/shape[1], 32/shape[2])), axis=0))\n",
    "\n",
    "\n",
    "import ipywidgets as widgets\n",
    "from ipywidgets import interact, interactive\n",
    "\n",
    "def show_image(images):\n",
    "    def show_frame(id):\n",
    "        length = len(images)\n",
    "        for i in range(length):\n",
    "            plt.subplot(1, length, i+1)\n",
    "            plt.imshow(images[i][0, 0, id, :, :], cmap='gray')\n",
    "    interact(show_frame, id=widgets.IntSlider(min=0, max=images[0].shape[2]-1, step=1, value=100))\n",
    "\n",
    "sel = next(iter(d.valid_index))\n",
    "show_image([d.data[sel][0][0][None, None, :, :, :], d.data[sel][0][1][None, None, :, :, :]])\n"
   ]
  },
  {
   "cell_type": "code",
   "execution_count": null,
   "metadata": {},
   "outputs": [],
   "source": []
  }
 ],
 "metadata": {
  "kernelspec": {
   "display_name": "Python 3",
   "language": "python",
   "name": "python3"
  },
  "language_info": {
   "codemirror_mode": {
    "name": "ipython",
    "version": 3
   },
   "file_extension": ".py",
   "mimetype": "text/x-python",
   "name": "python",
   "nbconvert_exporter": "python",
   "pygments_lexer": "ipython3",
   "version": "3.6.8"
  }
 },
 "nbformat": 4,
 "nbformat_minor": 2
}
