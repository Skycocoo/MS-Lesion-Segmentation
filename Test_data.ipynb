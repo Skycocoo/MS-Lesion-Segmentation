{
 "cells": [
  {
   "cell_type": "code",
   "execution_count": 1,
   "metadata": {},
   "outputs": [
    {
     "name": "stderr",
     "output_type": "stream",
     "text": [
      "Using TensorFlow backend.\n"
     ]
    },
    {
     "name": "stdout",
     "output_type": "stream",
     "text": [
      "data:\n",
      "(128, 256, 256) <HDF5 dataset \"(128, 256, 256)\": shape (5, 2, 128, 256, 256), type \"<f8\">\n",
      "(192, 512, 512) <HDF5 dataset \"(192, 512, 512)\": shape (5, 2, 192, 512, 512), type \"<f8\">\n",
      "(320, 384, 384) <HDF5 dataset \"(320, 384, 384)\": shape (5, 2, 320, 384, 384), type \"<f8\">\n",
      "patch_size <HDF5 dataset \"patch_size\": shape (3,), type \"<i8\">\n"
     ]
    }
   ],
   "source": [
    "from model.data import *\n",
    "\n",
    "d = Data()\n",
    "d.load_data((64, 64, 64))\n",
    "print(\"data:\")\n",
    "for i in d.data:\n",
    "    print(i, d.data[i])\n"
   ]
  },
  {
   "cell_type": "code",
   "execution_count": 2,
   "metadata": {},
   "outputs": [
    {
     "name": "stdout",
     "output_type": "stream",
     "text": [
      "5299 1324\n",
      "patch:\n",
      "(128, 256, 256) <HDF5 dataset \"(128, 256, 256)\": shape (5, 576, 3), type \"<i8\">\n",
      "(192, 512, 512) <HDF5 dataset \"(192, 512, 512)\": shape (5, 6272, 3), type \"<i8\">\n",
      "(320, 384, 384) <HDF5 dataset \"(320, 384, 384)\": shape (5, 6400, 3), type \"<i8\">\n",
      "count <HDF5 dataset \"count\": shape (), type \"<i8\">\n",
      "patch_gap <HDF5 dataset \"patch_gap\": shape (), type \"<i8\">\n",
      "patch_size <HDF5 dataset \"patch_size\": shape (3,), type \"<i8\">\n",
      "valid:\n",
      "(128, 256, 256) [4, 0, 2, 3, 1]\n",
      "(192, 512, 512) [4, 1, 0, 3, 2]\n",
      "(320, 384, 384) [0, 1, 2, 4, 3]\n"
     ]
    }
   ],
   "source": [
    "train, valid = d.prekfold((64, 64, 64), 16, 10)\n",
    "\n",
    "print(train, valid)\n",
    "\n",
    "print(\"patch:\")\n",
    "for i in d.patch_index:\n",
    "    print(i, d.patch_index[i])\n",
    "print(\"valid:\")\n",
    "for i in d.valid_index:\n",
    "    print(i, d.valid_index[i])"
   ]
  },
  {
   "cell_type": "code",
   "execution_count": 3,
   "metadata": {},
   "outputs": [],
   "source": [
    "# batch_size  patch_gap\n",
    "train_generator = DataGenerator(d.data, d.patch_index, d.kfold, d.batch_size, \n",
    "                                d.patch_size, d.patch_gap, d.valid_index, False)\n",
    "\n",
    "train_generator.set_index(0)"
   ]
  },
  {
   "cell_type": "code",
   "execution_count": 4,
   "metadata": {},
   "outputs": [
    {
     "name": "stdout",
     "output_type": "stream",
     "text": [
      "1324\n"
     ]
    }
   ],
   "source": [
    "# print(d.patch_index)\n",
    "# print(train_generator.valid_index)\n",
    "# for i in train_generator.data:\n",
    "#     print(i, train_generator.data[i])\n",
    "print(train_generator.__len__())"
   ]
  },
  {
   "cell_type": "code",
   "execution_count": 5,
   "metadata": {},
   "outputs": [
    {
     "name": "stdout",
     "output_type": "stream",
     "text": [
      "0\n",
      "(10, 1, 64, 64, 64) (10, 1, 64, 64, 64)\n",
      "10\n",
      "(10, 1, 64, 64, 64) (10, 1, 64, 64, 64)\n",
      "20\n",
      "(10, 1, 64, 64, 64) (10, 1, 64, 64, 64)\n",
      "30\n",
      "(10, 1, 64, 64, 64) (10, 1, 64, 64, 64)\n",
      "40\n",
      "(10, 1, 64, 64, 64) (10, 1, 64, 64, 64)\n",
      "50\n",
      "(10, 1, 64, 64, 64) (10, 1, 64, 64, 64)\n",
      "60\n",
      "(10, 1, 64, 64, 64) (10, 1, 64, 64, 64)\n",
      "70\n",
      "(10, 1, 64, 64, 64) (10, 1, 64, 64, 64)\n",
      "80\n",
      "(10, 1, 64, 64, 64) (10, 1, 64, 64, 64)\n",
      "90\n",
      "(10, 1, 64, 64, 64) (10, 1, 64, 64, 64)\n",
      "100\n",
      "(10, 1, 64, 64, 64) (10, 1, 64, 64, 64)\n",
      "110\n",
      "(10, 1, 64, 64, 64) (10, 1, 64, 64, 64)\n",
      "120\n",
      "(10, 1, 64, 64, 64) (10, 1, 64, 64, 64)\n",
      "130\n",
      "(10, 1, 64, 64, 64) (10, 1, 64, 64, 64)\n",
      "140\n",
      "(10, 1, 64, 64, 64) (10, 1, 64, 64, 64)\n",
      "150\n",
      "(10, 1, 64, 64, 64) (10, 1, 64, 64, 64)\n",
      "160\n",
      "(10, 1, 64, 64, 64) (10, 1, 64, 64, 64)\n",
      "170\n",
      "(10, 1, 64, 64, 64) (10, 1, 64, 64, 64)\n",
      "180\n",
      "(10, 1, 64, 64, 64) (10, 1, 64, 64, 64)\n",
      "190\n",
      "(10, 1, 64, 64, 64) (10, 1, 64, 64, 64)\n",
      "200\n",
      "(10, 1, 64, 64, 64) (10, 1, 64, 64, 64)\n",
      "210\n",
      "(10, 1, 64, 64, 64) (10, 1, 64, 64, 64)\n",
      "220\n",
      "(10, 1, 64, 64, 64) (10, 1, 64, 64, 64)\n",
      "230\n",
      "(10, 1, 64, 64, 64) (10, 1, 64, 64, 64)\n",
      "240\n",
      "(10, 1, 64, 64, 64) (10, 1, 64, 64, 64)\n",
      "250\n",
      "(10, 1, 64, 64, 64) (10, 1, 64, 64, 64)\n",
      "260\n",
      "(10, 1, 64, 64, 64) (10, 1, 64, 64, 64)\n",
      "270\n",
      "(10, 1, 64, 64, 64) (10, 1, 64, 64, 64)\n",
      "280\n",
      "(10, 1, 64, 64, 64) (10, 1, 64, 64, 64)\n",
      "290\n",
      "(10, 1, 64, 64, 64) (10, 1, 64, 64, 64)\n",
      "300\n",
      "(10, 1, 64, 64, 64) (10, 1, 64, 64, 64)\n",
      "310\n",
      "(10, 1, 64, 64, 64) (10, 1, 64, 64, 64)\n",
      "320\n",
      "(10, 1, 64, 64, 64) (10, 1, 64, 64, 64)\n",
      "330\n",
      "(10, 1, 64, 64, 64) (10, 1, 64, 64, 64)\n",
      "340\n",
      "(10, 1, 64, 64, 64) (10, 1, 64, 64, 64)\n",
      "350\n",
      "(10, 1, 64, 64, 64) (10, 1, 64, 64, 64)\n",
      "360\n",
      "(10, 1, 64, 64, 64) (10, 1, 64, 64, 64)\n",
      "370\n",
      "(10, 1, 64, 64, 64) (10, 1, 64, 64, 64)\n",
      "380\n",
      "(10, 1, 64, 64, 64) (10, 1, 64, 64, 64)\n",
      "390\n",
      "(10, 1, 64, 64, 64) (10, 1, 64, 64, 64)\n",
      "400\n",
      "(10, 1, 64, 64, 64) (10, 1, 64, 64, 64)\n",
      "410\n",
      "(10, 1, 64, 64, 64) (10, 1, 64, 64, 64)\n",
      "420\n",
      "(10, 1, 64, 64, 64) (10, 1, 64, 64, 64)\n",
      "430\n",
      "(10, 1, 64, 64, 64) (10, 1, 64, 64, 64)\n",
      "440\n",
      "(10, 1, 64, 64, 64) (10, 1, 64, 64, 64)\n",
      "450\n",
      "(10, 1, 64, 64, 64) (10, 1, 64, 64, 64)\n",
      "460\n",
      "(10, 1, 64, 64, 64) (10, 1, 64, 64, 64)\n",
      "470\n",
      "(10, 1, 64, 64, 64) (10, 1, 64, 64, 64)\n",
      "480\n",
      "(10, 1, 64, 64, 64) (10, 1, 64, 64, 64)\n",
      "490\n",
      "(10, 1, 64, 64, 64) (10, 1, 64, 64, 64)\n",
      "500\n",
      "(10, 1, 64, 64, 64) (10, 1, 64, 64, 64)\n",
      "510\n",
      "(10, 1, 64, 64, 64) (10, 1, 64, 64, 64)\n",
      "520\n",
      "(10, 1, 64, 64, 64) (10, 1, 64, 64, 64)\n",
      "530\n",
      "(10, 1, 64, 64, 64) (10, 1, 64, 64, 64)\n",
      "540\n",
      "(10, 1, 64, 64, 64) (10, 1, 64, 64, 64)\n",
      "550\n",
      "(10, 1, 64, 64, 64) (10, 1, 64, 64, 64)\n",
      "560\n",
      "(10, 1, 64, 64, 64) (10, 1, 64, 64, 64)\n",
      "570\n",
      "570\n",
      "4\n",
      "(10, 1, 64, 64, 64) (10, 1, 64, 64, 64)\n",
      "580\n",
      "4\n",
      "(10, 1, 64, 64, 64) (10, 1, 64, 64, 64)\n",
      "590\n",
      "14\n",
      "(10, 1, 64, 64, 64) (10, 1, 64, 64, 64)\n",
      "600\n",
      "24\n"
     ]
    },
    {
     "ename": "KeyboardInterrupt",
     "evalue": "",
     "output_type": "error",
     "traceback": [
      "\u001b[0;31m---------------------------------------------------------------------------\u001b[0m",
      "\u001b[0;31mKeyboardInterrupt\u001b[0m                         Traceback (most recent call last)",
      "\u001b[0;32m<ipython-input-5-aa22d10f3223>\u001b[0m in \u001b[0;36m<module>\u001b[0;34m\u001b[0m\n\u001b[0;32m----> 1\u001b[0;31m \u001b[0;32mfor\u001b[0m \u001b[0mi\u001b[0m\u001b[0;34m,\u001b[0m \u001b[0mj\u001b[0m \u001b[0;32min\u001b[0m \u001b[0mtrain_generator\u001b[0m\u001b[0;34m:\u001b[0m\u001b[0;34m\u001b[0m\u001b[0;34m\u001b[0m\u001b[0m\n\u001b[0m\u001b[1;32m      2\u001b[0m     \u001b[0mprint\u001b[0m\u001b[0;34m(\u001b[0m\u001b[0mi\u001b[0m\u001b[0;34m.\u001b[0m\u001b[0mshape\u001b[0m\u001b[0;34m,\u001b[0m \u001b[0mj\u001b[0m\u001b[0;34m.\u001b[0m\u001b[0mshape\u001b[0m\u001b[0;34m)\u001b[0m\u001b[0;34m\u001b[0m\u001b[0;34m\u001b[0m\u001b[0m\n",
      "\u001b[0;32m~/miniconda3/envs/mscond/lib/python3.6/site-packages/keras/utils/data_utils.py\u001b[0m in \u001b[0;36m__iter__\u001b[0;34m(self)\u001b[0m\n\u001b[1;32m    370\u001b[0m     \u001b[0;32mdef\u001b[0m \u001b[0m__iter__\u001b[0m\u001b[0;34m(\u001b[0m\u001b[0mself\u001b[0m\u001b[0;34m)\u001b[0m\u001b[0;34m:\u001b[0m\u001b[0;34m\u001b[0m\u001b[0;34m\u001b[0m\u001b[0m\n\u001b[1;32m    371\u001b[0m         \u001b[0;34m\"\"\"Create a generator that iterate over the Sequence.\"\"\"\u001b[0m\u001b[0;34m\u001b[0m\u001b[0;34m\u001b[0m\u001b[0m\n\u001b[0;32m--> 372\u001b[0;31m         \u001b[0;32mfor\u001b[0m \u001b[0mitem\u001b[0m \u001b[0;32min\u001b[0m \u001b[0;34m(\u001b[0m\u001b[0mself\u001b[0m\u001b[0;34m[\u001b[0m\u001b[0mi\u001b[0m\u001b[0;34m]\u001b[0m \u001b[0;32mfor\u001b[0m \u001b[0mi\u001b[0m \u001b[0;32min\u001b[0m \u001b[0mrange\u001b[0m\u001b[0;34m(\u001b[0m\u001b[0mlen\u001b[0m\u001b[0;34m(\u001b[0m\u001b[0mself\u001b[0m\u001b[0;34m)\u001b[0m\u001b[0;34m)\u001b[0m\u001b[0;34m)\u001b[0m\u001b[0;34m:\u001b[0m\u001b[0;34m\u001b[0m\u001b[0;34m\u001b[0m\u001b[0m\n\u001b[0m\u001b[1;32m    373\u001b[0m             \u001b[0;32myield\u001b[0m \u001b[0mitem\u001b[0m\u001b[0;34m\u001b[0m\u001b[0;34m\u001b[0m\u001b[0m\n\u001b[1;32m    374\u001b[0m \u001b[0;34m\u001b[0m\u001b[0m\n",
      "\u001b[0;32m~/miniconda3/envs/mscond/lib/python3.6/site-packages/keras/utils/data_utils.py\u001b[0m in \u001b[0;36m<genexpr>\u001b[0;34m(.0)\u001b[0m\n\u001b[1;32m    370\u001b[0m     \u001b[0;32mdef\u001b[0m \u001b[0m__iter__\u001b[0m\u001b[0;34m(\u001b[0m\u001b[0mself\u001b[0m\u001b[0;34m)\u001b[0m\u001b[0;34m:\u001b[0m\u001b[0;34m\u001b[0m\u001b[0;34m\u001b[0m\u001b[0m\n\u001b[1;32m    371\u001b[0m         \u001b[0;34m\"\"\"Create a generator that iterate over the Sequence.\"\"\"\u001b[0m\u001b[0;34m\u001b[0m\u001b[0;34m\u001b[0m\u001b[0m\n\u001b[0;32m--> 372\u001b[0;31m         \u001b[0;32mfor\u001b[0m \u001b[0mitem\u001b[0m \u001b[0;32min\u001b[0m \u001b[0;34m(\u001b[0m\u001b[0mself\u001b[0m\u001b[0;34m[\u001b[0m\u001b[0mi\u001b[0m\u001b[0;34m]\u001b[0m \u001b[0;32mfor\u001b[0m \u001b[0mi\u001b[0m \u001b[0;32min\u001b[0m \u001b[0mrange\u001b[0m\u001b[0;34m(\u001b[0m\u001b[0mlen\u001b[0m\u001b[0;34m(\u001b[0m\u001b[0mself\u001b[0m\u001b[0;34m)\u001b[0m\u001b[0;34m)\u001b[0m\u001b[0;34m)\u001b[0m\u001b[0;34m:\u001b[0m\u001b[0;34m\u001b[0m\u001b[0;34m\u001b[0m\u001b[0m\n\u001b[0m\u001b[1;32m    373\u001b[0m             \u001b[0;32myield\u001b[0m \u001b[0mitem\u001b[0m\u001b[0;34m\u001b[0m\u001b[0;34m\u001b[0m\u001b[0m\n\u001b[1;32m    374\u001b[0m \u001b[0;34m\u001b[0m\u001b[0m\n",
      "\u001b[0;32m/scratch/yl4217/MS-Lesion-Segmentation/model/data.py\u001b[0m in \u001b[0;36m__getitem__\u001b[0;34m(self, batch_index)\u001b[0m\n\u001b[1;32m    279\u001b[0m                                     \u001b[0mpatch\u001b[0m \u001b[0;34m=\u001b[0m \u001b[0mself\u001b[0m\u001b[0;34m.\u001b[0m\u001b[0mpatch_index\u001b[0m\u001b[0;34m[\u001b[0m\u001b[0mi\u001b[0m\u001b[0;34m]\u001b[0m\u001b[0;34m[\u001b[0m\u001b[0mj\u001b[0m\u001b[0;34m]\u001b[0m\u001b[0;34m[\u001b[0m\u001b[0mk\u001b[0m\u001b[0;34m]\u001b[0m\u001b[0;34m\u001b[0m\u001b[0;34m\u001b[0m\u001b[0m\n\u001b[1;32m    280\u001b[0m                                     \u001b[0mimage\u001b[0m \u001b[0;34m=\u001b[0m \u001b[0mself\u001b[0m\u001b[0;34m.\u001b[0m\u001b[0mdata\u001b[0m\u001b[0;34m[\u001b[0m\u001b[0mi\u001b[0m\u001b[0;34m]\u001b[0m\u001b[0;34m[\u001b[0m\u001b[0mj\u001b[0m\u001b[0;34m]\u001b[0m\u001b[0;34m[\u001b[0m\u001b[0;36m0\u001b[0m\u001b[0;34m]\u001b[0m\u001b[0;34m\u001b[0m\u001b[0;34m\u001b[0m\u001b[0m\n\u001b[0;32m--> 281\u001b[0;31m                                     \u001b[0mtarget\u001b[0m \u001b[0;34m=\u001b[0m \u001b[0mself\u001b[0m\u001b[0;34m.\u001b[0m\u001b[0mdata\u001b[0m\u001b[0;34m[\u001b[0m\u001b[0mi\u001b[0m\u001b[0;34m]\u001b[0m\u001b[0;34m[\u001b[0m\u001b[0mj\u001b[0m\u001b[0;34m]\u001b[0m\u001b[0;34m[\u001b[0m\u001b[0;36m1\u001b[0m\u001b[0;34m]\u001b[0m\u001b[0;34m\u001b[0m\u001b[0;34m\u001b[0m\u001b[0m\n\u001b[0m\u001b[1;32m    282\u001b[0m                                     img.append(image[patch[0]:patch[0]+self.patch_size[0], \n\u001b[1;32m    283\u001b[0m                                                      \u001b[0mpatch\u001b[0m\u001b[0;34m[\u001b[0m\u001b[0;36m1\u001b[0m\u001b[0;34m]\u001b[0m\u001b[0;34m:\u001b[0m\u001b[0mpatch\u001b[0m\u001b[0;34m[\u001b[0m\u001b[0;36m1\u001b[0m\u001b[0;34m]\u001b[0m\u001b[0;34m+\u001b[0m\u001b[0mself\u001b[0m\u001b[0;34m.\u001b[0m\u001b[0mpatch_size\u001b[0m\u001b[0;34m[\u001b[0m\u001b[0;36m1\u001b[0m\u001b[0;34m]\u001b[0m\u001b[0;34m,\u001b[0m\u001b[0;34m\u001b[0m\u001b[0;34m\u001b[0m\u001b[0m\n",
      "\u001b[0;32mh5py/_objects.pyx\u001b[0m in \u001b[0;36mh5py._objects.with_phil.wrapper\u001b[0;34m()\u001b[0m\n",
      "\u001b[0;32mh5py/_objects.pyx\u001b[0m in \u001b[0;36mh5py._objects.with_phil.wrapper\u001b[0;34m()\u001b[0m\n",
      "\u001b[0;32m~/miniconda3/envs/mscond/lib/python3.6/site-packages/h5py/_hl/dataset.py\u001b[0m in \u001b[0;36m__getitem__\u001b[0;34m(self, args)\u001b[0m\n\u001b[1;32m    571\u001b[0m         \u001b[0mmspace\u001b[0m \u001b[0;34m=\u001b[0m \u001b[0mh5s\u001b[0m\u001b[0;34m.\u001b[0m\u001b[0mcreate_simple\u001b[0m\u001b[0;34m(\u001b[0m\u001b[0mmshape\u001b[0m\u001b[0;34m)\u001b[0m\u001b[0;34m\u001b[0m\u001b[0;34m\u001b[0m\u001b[0m\n\u001b[1;32m    572\u001b[0m         \u001b[0mfspace\u001b[0m \u001b[0;34m=\u001b[0m \u001b[0mselection\u001b[0m\u001b[0;34m.\u001b[0m\u001b[0mid\u001b[0m\u001b[0;34m\u001b[0m\u001b[0;34m\u001b[0m\u001b[0m\n\u001b[0;32m--> 573\u001b[0;31m         \u001b[0mself\u001b[0m\u001b[0;34m.\u001b[0m\u001b[0mid\u001b[0m\u001b[0;34m.\u001b[0m\u001b[0mread\u001b[0m\u001b[0;34m(\u001b[0m\u001b[0mmspace\u001b[0m\u001b[0;34m,\u001b[0m \u001b[0mfspace\u001b[0m\u001b[0;34m,\u001b[0m \u001b[0marr\u001b[0m\u001b[0;34m,\u001b[0m \u001b[0mmtype\u001b[0m\u001b[0;34m,\u001b[0m \u001b[0mdxpl\u001b[0m\u001b[0;34m=\u001b[0m\u001b[0mself\u001b[0m\u001b[0;34m.\u001b[0m\u001b[0m_dxpl\u001b[0m\u001b[0;34m)\u001b[0m\u001b[0;34m\u001b[0m\u001b[0;34m\u001b[0m\u001b[0m\n\u001b[0m\u001b[1;32m    574\u001b[0m \u001b[0;34m\u001b[0m\u001b[0m\n\u001b[1;32m    575\u001b[0m         \u001b[0;31m# Patch up the output for NumPy\u001b[0m\u001b[0;34m\u001b[0m\u001b[0;34m\u001b[0m\u001b[0;34m\u001b[0m\u001b[0m\n",
      "\u001b[0;31mKeyboardInterrupt\u001b[0m: "
     ]
    }
   ],
   "source": [
    "for i, j in train_generator:\n",
    "    print(i.shape, j.shape)"
   ]
  },
  {
   "cell_type": "code",
   "execution_count": null,
   "metadata": {},
   "outputs": [],
   "source": []
  }
 ],
 "metadata": {
  "kernelspec": {
   "display_name": "Python 3",
   "language": "python",
   "name": "python3"
  }
 },
 "nbformat": 4,
 "nbformat_minor": 2
}
