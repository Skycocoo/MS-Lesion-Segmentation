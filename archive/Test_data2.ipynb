{
 "cells": [
  {
   "cell_type": "code",
   "execution_count": 1,
   "metadata": {},
   "outputs": [
    {
     "name": "stdout",
     "output_type": "stream",
     "text": [
      "(128, 256, 256) <HDF5 dataset \"(128, 256, 256)\": shape (5, 2, 128, 256, 256), type \"<f8\">\n",
      "(192, 512, 512) <HDF5 dataset \"(192, 512, 512)\": shape (5, 2, 192, 512, 512), type \"<f8\">\n",
      "(320, 384, 384) <HDF5 dataset \"(320, 384, 384)\": shape (5, 2, 320, 384, 384), type \"<f8\">\n",
      "patch_size <HDF5 dataset \"patch_size\": shape (3,), type \"<i8\">\n"
     ]
    }
   ],
   "source": [
    "from model.data import *\n",
    "\n",
    "d = Data()\n",
    "d.load_data((64, 64, 64))\n",
    "\n",
    "for i in d.data:\n",
    "    print(i, d.data[i])"
   ]
  },
  {
   "cell_type": "code",
   "execution_count": 2,
   "metadata": {},
   "outputs": [
    {
     "name": "stdout",
     "output_type": "stream",
     "text": [
      "(128, 256, 256)\n"
     ]
    }
   ],
   "source": [
    "image = d.data[\"(128, 256, 256)\"][0][0]\n",
    "print(image.shape)"
   ]
  },
  {
   "cell_type": "code",
   "execution_count": 3,
   "metadata": {},
   "outputs": [
    {
     "data": {
      "text/plain": [
       "(5299, 13248)"
      ]
     },
     "execution_count": 3,
     "metadata": {},
     "output_type": "execute_result"
    }
   ],
   "source": [
    "d.prekfold((64, 64, 64), 16, 10)"
   ]
  },
  {
   "cell_type": "code",
   "execution_count": 4,
   "metadata": {},
   "outputs": [
    {
     "name": "stdout",
     "output_type": "stream",
     "text": [
      "(128, 256, 256) (5, 576, 3)\n",
      "(192, 512, 512) (5, 6272, 3)\n",
      "(320, 384, 384) (5, 6400, 3)\n",
      "count ()\n",
      "patch_gap ()\n",
      "patch_size (3,)\n",
      "(128, 256, 256) [3, 1, 0, 2, 4]\n",
      "(192, 512, 512) [3, 0, 4, 1, 2]\n",
      "(320, 384, 384) [4, 2, 1, 0, 3]\n"
     ]
    }
   ],
   "source": [
    "for i in d.patch_index:\n",
    "    print(i, d.patch_index[i].shape)\n",
    "for i in d.valid_index:\n",
    "    print(i, d.valid_index[i])"
   ]
  },
  {
   "cell_type": "code",
   "execution_count": null,
   "metadata": {},
   "outputs": [],
   "source": [
    "# for img, tar in d.valid_generator(0):\n",
    "#     print(img.shape, tar.shape)"
   ]
  },
  {
   "cell_type": "code",
   "execution_count": 4,
   "metadata": {},
   "outputs": [],
   "source": [
    "# print(\"shape of patch_index: \", np.array(patch_index).shape)\n",
    "# for i in range(20):\n",
    "#     print(patch_index[i])\n",
    "# random_patch_index = random.sample(patch_index, len(patch_index))\n",
    "# print(\"---------------\")\n",
    "# for i in range(20):\n",
    "#     print(random_patch_index[i])"
   ]
  },
  {
   "cell_type": "code",
   "execution_count": 5,
   "metadata": {},
   "outputs": [
    {
     "name": "stdout",
     "output_type": "stream",
     "text": [
      "[0 1 2 3 4 5 6 7 8 9]\n",
      "[array([3, 4, 4, 2, 3, 1, 3, 5, 3, 3]), array([3, 7, 8, 5, 6, 7, 9, 5, 2, 7]), array([6, 7, 8, 7, 2, 4, 7, 1, 4, 5]), array([2, 8, 9, 3, 2, 6, 2, 2, 6, 7]), array([5, 0, 9, 3, 4, 4, 1, 3, 9, 7])]\n"
     ]
    }
   ],
   "source": [
    "arr = np.arange(10)\n",
    "print(np.copy(arr))\n",
    "\n",
    "# cp = []\n",
    "# for i in range(5):\n",
    "#     cp.append(np.random.choice(np.copy(arr), len(arr)))\n",
    "# print(cp)\n",
    "print([np.random.choice(np.copy(arr), len(arr)) for _ in range(5)])"
   ]
  },
  {
   "cell_type": "code",
   "execution_count": null,
   "metadata": {},
   "outputs": [],
   "source": []
  }
 ],
 "metadata": {
  "kernelspec": {
   "display_name": "Python 3",
   "language": "python",
   "name": "python3"
  },
  "language_info": {
   "codemirror_mode": {
    "name": "ipython",
    "version": 3
   },
   "file_extension": ".py",
   "mimetype": "text/x-python",
   "name": "python",
   "nbconvert_exporter": "python",
   "pygments_lexer": "ipython3",
   "version": "3.6.8"
  }
 },
 "nbformat": 4,
 "nbformat_minor": 2
}
