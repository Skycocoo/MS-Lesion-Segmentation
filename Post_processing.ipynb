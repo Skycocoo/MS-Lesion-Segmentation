{
 "cells": [
  {
   "cell_type": "code",
   "execution_count": 3,
   "metadata": {},
   "outputs": [],
   "source": [
    "import os\n",
    "\n",
    "config = {}\n",
    "config[\"weights_file\"] = os.getcwd() + '/model/weight'\n",
    "config[\"patch_size\"] = (64, 64, 64)  # switch to None to train on the whole image\n",
    "config[\"patch_gap\"] = 16\n",
    "config[\"batch_size\"] = 10\n",
    "config[\"kfold\"] = 5\n",
    "\n",
    "config[\"input_shape\"] = (1, None, None, None)\n",
    "config[\"depth\"] = 4 # depth of layers for V/Unet\n",
    "config[\"n_base_filters\"] = 32\n",
    "config[\"pool_size\"] = (2, 2, 2)  # pool size for the max pooling operations\n",
    "config[\"deconvolution\"] = True  # if False, will use upsampling instead of deconvolution\n",
    "\n",
    "config[\"patience\"] = 10  # learning rate will be reduced after this many epochs if the validation loss is not improving\n",
    "config[\"early_stop\"] = 10  # training will be stopped after this many epochs without the validation loss improving\n",
    "config[\"initial_learning_rate\"] = 0.00001\n",
    "config[\"learning_rate_drop\"] = 0.5  # factor by which the learning rate will be reduced\n",
    "config[\"n_epochs\"] = 1"
   ]
  },
  {
   "cell_type": "code",
   "execution_count": 4,
   "metadata": {},
   "outputs": [
    {
     "name": "stderr",
     "output_type": "stream",
     "text": [
      "Using TensorFlow backend.\n"
     ]
    }
   ],
   "source": [
    "from model.data import *\n",
    "from model.model import *\n",
    "\n",
    "d = Data()\n",
    "d.load_data(config[\"patch_size\"])\n",
    "\n",
    "# prepare data for training\n",
    "train_num, valid_num = d.prekfold(config[\"patch_size\"], config[\"patch_gap\"], config[\"batch_size\"], config[\"kfold\"])"
   ]
  },
  {
   "cell_type": "code",
   "execution_count": 28,
   "metadata": {},
   "outputs": [],
   "source": [
    "from model.recon import *\n",
    "\n",
    "weight_path = ['/model/weight/ref/weights-02-0.02-0429-binary-patch.hdf5',\n",
    "              ]\n",
    "weight_name = ['binary',\n",
    "              ]\n",
    "\n",
    "for i_weight in range(len(weight_path)):\n",
    "\n",
    "    model = unet_model_3d(input_shape=config[\"input_shape\"],\n",
    "                                  pool_size=config[\"pool_size\"],\n",
    "                                  initial_learning_rate=config[\"initial_learning_rate\"],\n",
    "                                  deconvolution=config[\"deconvolution\"],\n",
    "                                  depth=config[\"depth\"],\n",
    "                                  n_base_filters=config[\"n_base_filters\"])\n",
    "    model.load_weights(os.getcwd() + weight_path[i_weight]) \n",
    "    \n",
    "    fold_index = 0\n",
    "    for i in d.valid_index:\n",
    "        j = d.valid_index[i][fold_index]\n",
    "        recons = Reconstruct(j, d.data[i][j][0].shape, config[\"patch_size\"], True)\n",
    "        normal = Reconstruct(j, d.data[i][j][0].shape, config[\"patch_size\"], False)\n",
    "        image = Reconstruct(j, d.data[i][j][0].shape, config[\"patch_size\"], False)\n",
    "        target = Reconstruct(j, d.data[i][j][0].shape, config[\"patch_size\"], False)\n",
    "        for ind in range(d.patch_index[i][j].shape[0]):\n",
    "            index = d.patch_index[i][j][ind]\n",
    "            image_i = np.expand_dims(d.data[i][j][0][\n",
    "                             index[0]:index[0]+d.patch_size[0], \n",
    "                             index[1]:index[1]+d.patch_size[1], \n",
    "                             index[2]:index[2]+d.patch_size[2]], axis=0)\n",
    "            target_i = np.expand_dims(d.data[i][j][1][\n",
    "                             index[0]:index[0]+d.patch_size[0], \n",
    "                             index[1]:index[1]+d.patch_size[1], \n",
    "                             index[2]:index[2]+d.patch_size[2]], axis=0)\n",
    "            result = model.predict([image_i[None, :]])\n",
    "            recons.add(result, index)\n",
    "            normal.add(result, index)\n",
    "            image.add(image_i, index)\n",
    "            target.add(target_i, index)\n",
    "#             break\n",
    "        dir_name = './model/h5df_data/recon/' + weight_name[i_weight] + '/'\n",
    "        os.makedirs(os.path.dirname(dir_name), exist_ok=True)\n",
    "        file_name = '/recon/' + weight_name[i_weight] + '/'+ str(d.data[i][j][0].shape)\n",
    "        recons.store(file_name + '_weighted_output')\n",
    "        normal.store(file_name + \"_uniform_output\")\n",
    "        image.store(file_name + \"_input\")\n",
    "        target.store(file_name + \"_target\")\n",
    "        break\n",
    "#         recon.append(recons)\n",
    "#         normal.append(orig)\n",
    "\n"
   ]
  },
  {
   "cell_type": "code",
   "execution_count": null,
   "metadata": {},
   "outputs": [],
   "source": []
  },
  {
   "cell_type": "code",
   "execution_count": 29,
   "metadata": {},
   "outputs": [
    {
     "name": "stdout",
     "output_type": "stream",
     "text": [
      "defaultdict(<class 'list'>, {'binary': [<HDF5 file \"(128, 256, 256)_weighted_output.h5\" (mode r)>]})\n"
     ]
    }
   ],
   "source": [
    "import os\n",
    "import h5py\n",
    "from collections import defaultdict\n",
    "\n",
    "def fetch_file():\n",
    "    path = os.getcwd() + '/model/h5df_data/recon/'\n",
    "    root, sub_dir, _ = next(os.walk(path))\n",
    "    uniform = defaultdict(list)\n",
    "    weight = defaultdict(list)\n",
    "    target = defaultdict(list)\n",
    "    for sub in sub_dir:\n",
    "        _, _, sub_files = next(os.walk(root + sub))\n",
    "        for file in sub_files:\n",
    "            if \"nii\" not in file:\n",
    "                cur_file = h5py.File(root + sub + '/' + file, 'r')\n",
    "                if \"weight\" in file:\n",
    "                    # binary\n",
    "                    weight[sub].append(cur_file)\n",
    "#                     weight[sub + str(cur_file[\"shape\"][()])]= cur_file\n",
    "                if \"uniform\" in file:\n",
    "                    uniform[sub].append(cur_file)\n",
    "#                     uniform[sub + str(cur_file[\"shape\"][()])] = cur_file\n",
    "                if \"target\" in file:\n",
    "                    target[sub].append(cur_file)\n",
    "#                     target[sub + str(cur_file[\"shape\"][()])] = cur_file\n",
    "    return weight, uniform, target\n",
    "\n",
    "def dice(y_true, y_pred, smooth=1.):\n",
    "    y_true_f = np.array(y_true).flatten()\n",
    "    y_pred_f = np.array(y_pred).flatten()\n",
    "    intersection = np.sum(y_true_f * y_pred_f)\n",
    "    # tensorflow computation graph: will not configure print as one of the graph, unless using tf.Print()\n",
    "    return (2.*intersection+smooth) / (np.sum(y_true_f)+np.sum(y_pred_f)+smooth)\n",
    "# print(dice(merge_target, merge_result>0.02))\n",
    "            \n",
    "weight, uniform, target = fetch_file()\n",
    "print(weight)"
   ]
  },
  {
   "cell_type": "code",
   "execution_count": 39,
   "metadata": {},
   "outputs": [
    {
     "data": {
      "application/vnd.jupyter.widget-view+json": {
       "model_id": "b92f8c14742f460f90b9c4811be96e85",
       "version_major": 2,
       "version_minor": 0
      },
      "text/plain": [
       "interactive(children=(IntSlider(value=64, description='id', max=127), Output()), _dom_classes=('widget-interac…"
      ]
     },
     "metadata": {},
     "output_type": "display_data"
    },
    {
     "name": "stdout",
     "output_type": "stream",
     "text": [
      "[0.0008365971378584126, 0.44288456923446123, 0.512861043253341, 0.5570928753180662, 0.5893101092896175, 0.6136813681368137, 0.6313329594316694, 0.6450308166409862, 0.6584158415841584, 0.6693025141930251, 0.6764096185737977, 0.682613277133825, 0.6906397595534565, 0.6937309534175011, 0.6959504315113964, 0.6975653339289702, 0.701354401805869, 0.7025489303595812, 0.7045664206642066, 0.705950991831972, 0.7066729544918652, 0.7073749110742233, 0.7089909134385461, 0.710291636538925, 0.7110625909752547, 0.7098750306297477, 0.7112259970457903, 0.7110615079365079, 0.7108283433133733, 0.7100250626566416, 0.7080604534005038, 0.7061946902654868, 0.7055386178861789, 0.7026819923371648, 0.7023351295868617, 0.7011079618654986, 0.7001036806635562, 0.6985160114553501, 0.6983006535947712, 0.6982917214191853, 0.6959852086634971, 0.6944665078104315, 0.6922872340425532, 0.6907491335643828, 0.6892761394101876, 0.6863379143088116, 0.6824708751015984, 0.6825224245718945, 0.6813096862210095, 0.6786399780641623, 0.6766483516483517, 0.6737451737451737, 0.6728480487129809, 0.6706503613118399, 0.6689924644152945, 0.6671340437464947, 0.6667604049493814, 0.6641242937853107, 0.661839863713799, 0.6582025677603424, 0.6562589515898023, 0.6548850574712644, 0.6534910559723024, 0.649188876013905, 0.6471785922047703, 0.6445483776673487, 0.6413489736070381, 0.6386678455643973, 0.6375739644970414, 0.6354723707664884, 0.6334127456819535, 0.628408750374588, 0.6237564063913175, 0.6184848484848485, 0.613719512195122, 0.6102783725910065, 0.6057160417947142, 0.600925925925926, 0.5942839391115253, 0.5896875, 0.5820754716981132, 0.577602523659306, 0.5721975934135529, 0.5681168624960304, 0.5640127388535032, 0.5568363752801793, 0.5473038424281563, 0.5367838541666666, 0.5262295081967213, 0.5186530207989436, 0.5131011608623549, 0.5023395721925134, 0.49445378151260505, 0.4825364530349271, 0.47165300546448086, 0.4556131260794473, 0.43904994760740484, 0.42615438843849135, 0.4043618162316768, 0.3689213893967093, 0.0004484304932735426]\n",
      "[8.36597138e-04 4.42884569e-01 5.12861043e-01 5.57092875e-01\n",
      " 5.89310109e-01 6.13681368e-01 6.31332959e-01 6.45030817e-01\n",
      " 6.58415842e-01 6.69302514e-01 6.76409619e-01 6.82613277e-01\n",
      " 6.90639760e-01 6.93730953e-01 6.95950432e-01 6.97565334e-01\n",
      " 7.01354402e-01 7.02548930e-01 7.04566421e-01 7.05950992e-01\n",
      " 7.06672954e-01 7.07374911e-01 7.08990913e-01 7.10291637e-01\n",
      " 7.11062591e-01 7.09875031e-01 7.11225997e-01 7.11061508e-01\n",
      " 7.10828343e-01 7.10025063e-01 7.08060453e-01 7.06194690e-01\n",
      " 7.05538618e-01 7.02681992e-01 7.02335130e-01 7.01107962e-01\n",
      " 7.00103681e-01 6.98516011e-01 6.98300654e-01 6.98291721e-01\n",
      " 6.95985209e-01 6.94466508e-01 6.92287234e-01 6.90749134e-01\n",
      " 6.89276139e-01 6.86337914e-01 6.82470875e-01 6.82522425e-01\n",
      " 6.81309686e-01 6.78639978e-01 6.76648352e-01 6.73745174e-01\n",
      " 6.72848049e-01 6.70650361e-01 6.68992464e-01 6.67134044e-01\n",
      " 6.66760405e-01 6.64124294e-01 6.61839864e-01 6.58202568e-01\n",
      " 6.56258952e-01 6.54885057e-01 6.53491056e-01 6.49188876e-01\n",
      " 6.47178592e-01 6.44548378e-01 6.41348974e-01 6.38667846e-01\n",
      " 6.37573964e-01 6.35472371e-01 6.33412746e-01 6.28408750e-01\n",
      " 6.23756406e-01 6.18484848e-01 6.13719512e-01 6.10278373e-01\n",
      " 6.05716042e-01 6.00925926e-01 5.94283939e-01 5.89687500e-01\n",
      " 5.82075472e-01 5.77602524e-01 5.72197593e-01 5.68116862e-01\n",
      " 5.64012739e-01 5.56836375e-01 5.47303842e-01 5.36783854e-01\n",
      " 5.26229508e-01 5.18653021e-01 5.13101161e-01 5.02339572e-01\n",
      " 4.94453782e-01 4.82536453e-01 4.71653005e-01 4.55613126e-01\n",
      " 4.39049948e-01 4.26154388e-01 4.04361816e-01 3.68921389e-01\n",
      " 4.48430493e-04]\n"
     ]
    },
    {
     "data": {
      "image/png": "[encoded data removed]",
      "text/plain": [
       "<Figure size 432x288 with 1 Axes>"
      ]
     },
     "metadata": {
      "needs_background": "light"
     },
     "output_type": "display_data"
    }
   ],
   "source": [
    "def calc_thres(output, target):\n",
    "    it = np.arange(0, 1.01, 0.01)\n",
    "    dice_thre = []\n",
    "    for i in it:\n",
    "        dice_thre.append(dice(target, output>i))\n",
    "    print(dice_thre)\n",
    "    return dice_thre\n",
    "#     plt.plot(it, dice_thre)\n",
    "#     plt.savefig()\n",
    "#     threshold = dice_thre[np.argmax(dice_thre)]\n",
    "        \n",
    "# first uniform:\n",
    "\n",
    "path = os.getcwd() + '/model/h5df_data/recon/'\n",
    "\n",
    "for i in target:\n",
    "    # i: binary\n",
    "    threshold = np.zeros(101)\n",
    "    for j in range(len(target[i])):\n",
    "        # target[i][j]: binary, (shape), --\n",
    "        threshold += calc_thres(weight[i][j][\"data\"][:], target[i][j][\"data\"][:])\n",
    "    threshold /= len(target[i])\n",
    "    plt.plot(np.arange(0, 1.01, 0.01), threshold)\n",
    "    plt.savefig(path + i + '/weight_threashold.png')\n",
    "    \n",
    "    opt = threshold[np.argmax(threshold)]\n",
    "    for j in range(len(target[i])):\n",
    "        nib.save(nib.Nifti1Image(np.array(weight[i][j][\"data\"][:]>opt).astype(int), np.eye(4)), \n",
    "                 path + i + '/' + os.path.basename(target[i][j].filename) + \"_weight_threashold.nii.gz\")\n",
    "for i in target:\n",
    "    # i: binary\n",
    "    threshold = np.zeros(101)\n",
    "    for j in range(len(target[i])):\n",
    "        # target[i][j]: binary, (shape), --\n",
    "        threshold += calc_thres(uniform[i][j][\"data\"][:], target[i][j][\"data\"][:])\n",
    "    threshold /= len(target[i])\n",
    "    plt.plot(np.arange(0, 1.01, 0.01), threshold)\n",
    "    plt.savefig(path + i + '/threashold.png')\n",
    "    \n",
    "    opt = threshold[np.argmax(threshold)]\n",
    "    for j in range(len(target[i])):\n",
    "        nib.save(nib.Nifti1Image(np.array(uniform[i][j][\"data\"][:]>opt).astype(int), np.eye(4)), \n",
    "                 path + i + '/' + os.path.basename(target[i][j].filename) + \"_uniform_threashold.nii.gz\")\n",
    "    "
   ]
  },
  {
   "cell_type": "code",
   "execution_count": 27,
   "metadata": {},
   "outputs": [
    {
     "name": "stdout",
     "output_type": "stream",
     "text": [
      "<HDF5 file \"(128, 256, 256)_target.h5\" (mode r)>\n",
      "(128, 256, 256)_target.h5\n"
     ]
    }
   ],
   "source": [
    "for i in target:\n",
    "    for j in range(len(target[i])):\n",
    "        print(target[i][j])\n",
    "        print(os.path.basename(target[i][j].filename))\n",
    "    "
   ]
  },
  {
   "cell_type": "code",
   "execution_count": 16,
   "metadata": {},
   "outputs": [
    {
     "data": {
      "text/plain": [
       "(101,)"
      ]
     },
     "execution_count": 16,
     "metadata": {},
     "output_type": "execute_result"
    }
   ],
   "source": [
    "np.arange(0, 1.01, 0.01).shape\n",
    "np.zeros(101).shape"
   ]
  },
  {
   "cell_type": "code",
   "execution_count": null,
   "metadata": {},
   "outputs": [],
   "source": [
    "plt.plot(it, dice_thre)\n",
    "plt.savefig()\n",
    "print(it[np.argmax(dice_thre)], dice_thre[np.argmax(dice_thre)])"
   ]
  },
  {
   "cell_type": "code",
   "execution_count": null,
   "metadata": {},
   "outputs": [],
   "source": []
  },
  {
   "cell_type": "code",
   "execution_count": null,
   "metadata": {},
   "outputs": [],
   "source": []
  }
 ],
 "metadata": {
  "kernelspec": {
   "display_name": "Python 3",
   "language": "python",
   "name": "python3"
  },
  "language_info": {
   "codemirror_mode": {
    "name": "ipython",
    "version": 3
   },
   "file_extension": ".py",
   "mimetype": "text/x-python",
   "name": "python",
   "nbconvert_exporter": "python",
   "pygments_lexer": "ipython3",
   "version": "3.6.8"
  }
 },
 "nbformat": 4,
 "nbformat_minor": 2
}
