{
 "cells": [
  {
   "cell_type": "code",
   "execution_count": 8,
   "metadata": {},
   "outputs": [],
   "source": [
    "import nibabel as nib\n",
    "import glob, os"
   ]
  },
  {
   "cell_type": "code",
   "execution_count": 19,
   "metadata": {},
   "outputs": [],
   "source": [
    "def fetch_data():\n",
    "    model = []\n",
    "    seg = []\n",
    "    root, sub_dir, _ = next(os.walk(os.getcwd()+'/data/'))\n",
    "    for sub in sub_dir:\n",
    "        model.append(os.path.join(root, sub + '/FLAIR_preprocessed.nii.gz'))\n",
    "        seg.append(os.path.join(root, sub + '/Consensus.nii.gz'))\n",
    "    return model, seg\n",
    "\n",
    "model, seg = fetch_data()"
   ]
  },
  {
   "cell_type": "code",
   "execution_count": 22,
   "metadata": {},
   "outputs": [
    {
     "name": "stdout",
     "output_type": "stream",
     "text": [
      "<class 'nibabel.nifti1.Nifti1Image'>\n",
      "data shape (261, 336, 336)\n",
      "affine: \n",
      "[[-6.97692811e-01 -5.33618592e-02 -2.84517333e-02  1.08155357e+02]\n",
      " [ 5.54330721e-02 -7.16394126e-01 -1.92132026e-01  1.52908997e+02]\n",
      " [-1.28090549e-02 -1.93749443e-01  7.18249738e-01 -1.18026794e+02]\n",
      " [ 0.00000000e+00  0.00000000e+00  0.00000000e+00  1.00000000e+00]]\n",
      "metadata:\n",
      "<class 'nibabel.nifti1.Nifti1Header'> object, endian='<'\n",
      "sizeof_hdr      : 348\n",
      "data_type       : b''\n",
      "db_name         : b''\n",
      "extents         : 0\n",
      "session_error   : 0\n",
      "regular         : b'r'\n",
      "dim_info        : 0\n",
      "dim             : [  3 261 336 336   1   1   1   1]\n",
      "intent_p1       : 0.0\n",
      "intent_p2       : 0.0\n",
      "intent_p3       : 0.0\n",
      "intent_code     : none\n",
      "datatype        : float32\n",
      "bitpix          : 32\n",
      "slice_start     : 0\n",
      "pixdim          : [1.         0.70000863 0.74404764 0.74404764 0.         0.\n",
      " 0.         0.        ]\n",
      "vox_offset      : 0.0\n",
      "scl_slope       : nan\n",
      "scl_inter       : nan\n",
      "slice_end       : 0\n",
      "slice_code      : unknown\n",
      "xyzt_units      : 2\n",
      "cal_max         : 0.0\n",
      "cal_min         : 0.0\n",
      "slice_duration  : 0.0\n",
      "toffset         : 0.0\n",
      "glmax           : 0\n",
      "glmin           : 0\n",
      "descrip         : b''\n",
      "aux_file        : b''\n",
      "qform_code      : aligned\n",
      "sform_code      : scanner\n",
      "quatern_b       : -0.014269058\n",
      "quatern_c       : -0.13089152\n",
      "quatern_d       : 0.9905621\n",
      "qoffset_x       : 108.15536\n",
      "qoffset_y       : 152.909\n",
      "qoffset_z       : -118.026794\n",
      "srow_x          : [-6.9769281e-01 -5.3361859e-02 -2.8451733e-02  1.0815536e+02]\n",
      "srow_y          : [ 5.5433072e-02 -7.1639413e-01 -1.9213203e-01  1.5290900e+02]\n",
      "srow_z          : [-1.28090549e-02 -1.93749443e-01  7.18249738e-01 -1.18026794e+02]\n",
      "intent_name     : b''\n",
      "magic           : b'n+1'\n"
     ]
    }
   ],
   "source": [
    "img = nib.load(model[0])\n",
    "print(img)"
   ]
  },
  {
   "cell_type": "code",
   "execution_count": null,
   "metadata": {},
   "outputs": [],
   "source": []
  }
 ],
 "metadata": {
  "kernelspec": {
   "display_name": "Python 3",
   "language": "python",
   "name": "python3"
  },
  "language_info": {
   "codemirror_mode": {
    "name": "ipython",
    "version": 3
   },
   "file_extension": ".py",
   "mimetype": "text/x-python",
   "name": "python",
   "nbconvert_exporter": "python",
   "pygments_lexer": "ipython3",
   "version": "3.6.4"
  }
 },
 "nbformat": 4,
 "nbformat_minor": 2
}
