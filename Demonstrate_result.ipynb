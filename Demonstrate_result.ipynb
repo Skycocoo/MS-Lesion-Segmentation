{
 "cells": [
  {
   "cell_type": "code",
   "execution_count": 1,
   "metadata": {},
   "outputs": [
    {
     "name": "stderr",
     "output_type": "stream",
     "text": [
      "Using TensorFlow backend.\n"
     ]
    }
   ],
   "source": [
    "from model.data import *\n",
    "from model.model import *\n",
    "d = Data()"
   ]
  },
  {
   "cell_type": "code",
   "execution_count": 2,
   "metadata": {},
   "outputs": [
    {
     "name": "stdout",
     "output_type": "stream",
     "text": [
      "1 & input_1 & (None, 1, 64, 64, 64)\n",
      "2 & conv3d_1 & (None, 32, 64, 64, 64)\n",
      "3 & activation_1 & (None, 32, 64, 64, 64)\n",
      "4 & conv3d_2 & (None, 32, 64, 64, 64)\n",
      "5 & activation_2 & (None, 32, 64, 64, 64)\n",
      "6 & max_pooling3d_1 & (None, 32, 32, 32, 32)\n",
      "7 & conv3d_3 & (None, 64, 32, 32, 32)\n",
      "8 & activation_3 & (None, 64, 32, 32, 32)\n",
      "9 & conv3d_4 & (None, 64, 32, 32, 32)\n",
      "10 & activation_4 & (None, 64, 32, 32, 32)\n",
      "11 & max_pooling3d_2 & (None, 64, 16, 16, 16)\n",
      "12 & conv3d_5 & (None, 128, 16, 16, 16)\n",
      "13 & activation_5 & (None, 128, 16, 16, 16)\n",
      "14 & conv3d_6 & (None, 128, 16, 16, 16)\n",
      "15 & activation_6 & (None, 128, 16, 16, 16)\n",
      "16 & max_pooling3d_3 & (None, 128, 8, 8, 8)\n",
      "17 & conv3d_7 & (None, 256, 8, 8, 8)\n",
      "18 & activation_7 & (None, 256, 8, 8, 8)\n",
      "19 & conv3d_8 & (None, 256, 8, 8, 8)\n",
      "20 & activation_8 & (None, 256, 8, 8, 8)\n",
      "21 & max_pooling3d_4 & (None, 256, 4, 4, 4)\n",
      "22 & conv3d_9 & (None, 512, 4, 4, 4)\n",
      "23 & activation_9 & (None, 512, 4, 4, 4)\n",
      "24 & conv3d_10 & (None, 512, 4, 4, 4)\n",
      "25 & activation_10 & (None, 512, 4, 4, 4)\n",
      "26 & conv3d_transpose_1 & (None, 256, 8, 8, 8)\n",
      "27 & concatenate_1 & (None, 512, 8, 8, 8)\n",
      "28 & conv3d_11 & (None, 256, 8, 8, 8)\n",
      "29 & activation_11 & (None, 256, 8, 8, 8)\n",
      "30 & conv3d_12 & (None, 256, 8, 8, 8)\n",
      "31 & activation_12 & (None, 256, 8, 8, 8)\n",
      "32 & conv3d_transpose_2 & (None, 128, 16, 16, 16)\n",
      "33 & concatenate_2 & (None, 256, 16, 16, 16)\n",
      "34 & conv3d_13 & (None, 128, 16, 16, 16)\n",
      "35 & activation_13 & (None, 128, 16, 16, 16)\n",
      "36 & conv3d_14 & (None, 128, 16, 16, 16)\n",
      "37 & activation_14 & (None, 128, 16, 16, 16)\n",
      "38 & conv3d_transpose_3 & (None, 64, 32, 32, 32)\n",
      "39 & concatenate_3 & (None, 128, 32, 32, 32)\n",
      "40 & conv3d_15 & (None, 64, 32, 32, 32)\n",
      "41 & activation_15 & (None, 64, 32, 32, 32)\n",
      "42 & conv3d_16 & (None, 64, 32, 32, 32)\n",
      "43 & activation_16 & (None, 64, 32, 32, 32)\n",
      "44 & conv3d_transpose_4 & (None, 32, 64, 64, 64)\n",
      "45 & concatenate_4 & (None, 64, 64, 64, 64)\n",
      "46 & conv3d_17 & (None, 32, 64, 64, 64)\n",
      "47 & activation_17 & (None, 32, 64, 64, 64)\n",
      "48 & conv3d_18 & (None, 32, 64, 64, 64)\n",
      "49 & activation_18 & (None, 32, 64, 64, 64)\n",
      "50 & conv3d_19 & (None, 1, 64, 64, 64)\n",
      "51 & activation_19 & (None, 1, 64, 64, 64)\n"
     ]
    }
   ],
   "source": [
    "import os\n",
    "\n",
    "config = {}\n",
    "config[\"weights_file\"] = os.getcwd() + '/model/weight'\n",
    "config[\"patch_size\"] = (64, 64, 64)  # switch to None to train on the whole image\n",
    "config[\"patch_gap\"] = 16\n",
    "config[\"batch_size\"] = 10\n",
    "config[\"kfold\"] = 5\n",
    "\n",
    "config[\"input_shape\"] = (1, 64, 64, 64)\n",
    "config[\"depth\"] = 4 # depth of layers for V/Unet\n",
    "config[\"n_base_filters\"] = 32\n",
    "config[\"pool_size\"] = (2, 2, 2)  # pool size for the max pooling operations\n",
    "config[\"deconvolution\"] = True  # if False, will use upsampling instead of deconvolution\n",
    "\n",
    "config[\"patience\"] = 10  # learning rate will be reduced after this many epochs if the validation loss is not improving\n",
    "config[\"early_stop\"] = 10  # training will be stopped after this many epochs without the validation loss improving\n",
    "config[\"initial_learning_rate\"] = 0.00001\n",
    "config[\"learning_rate_drop\"] = 0.5  # factor by which the learning rate will be reduced\n",
    "config[\"n_epochs\"] = 1\n",
    "\n",
    "model = unet_model_3d(input_shape=config[\"input_shape\"],\n",
    "                              pool_size=config[\"pool_size\"],\n",
    "                              initial_learning_rate=config[\"initial_learning_rate\"],\n",
    "                              deconvolution=config[\"deconvolution\"],\n",
    "                              depth=config[\"depth\"],\n",
    "                              n_base_filters=config[\"n_base_filters\"])\n",
    "\n",
    "# model.summary()\n",
    "counter = 1\n",
    "for layer in model.layers:\n",
    "    print(counter, \"&\", layer.name, \"&\", layer.output_shape)\n",
    "    counter += 1\n"
   ]
  },
  {
   "cell_type": "code",
   "execution_count": 4,
   "metadata": {
    "scrolled": true
   },
   "outputs": [
    {
     "name": "stdout",
     "output_type": "stream",
     "text": [
      "Contract 1 & Conv3D + ReLU & (32, 64, 64, 64) \\\\\n",
      "Contract 1 & Max pooling & (32, 32, 32, 32) \\\\\n",
      "Contract 2 & Conv3D + ReLU & (64, 32, 32, 32) \\\\\n",
      "Contract 2 & Max pooling & (64, 16, 16, 16) \\\\\n",
      "Contract 3 & Conv3D + ReLU & (128, 16, 16, 16) \\\\\n",
      "Contract 3 & Max pooling & (128, 8, 8, 8) \\\\\n",
      "Contract 4 & Conv3D + ReLU & (256, 8, 8, 8) \\\\\n",
      "Contract 4 & Max pooling & (256, 4, 4, 4) \\\\\n"
     ]
    }
   ],
   "source": [
    "# 2 & conv3d_1 & (None, 32, 64, 64, 64)\n",
    "# 3 & activation_1 & (None, 32, 64, 64, 64)\n",
    "# 4 & conv3d_2 & (None, 32, 64, 64, 64)\n",
    "# 5 & activation_2 & (None, 32, 64, 64, 64)\n",
    "# 6 & max_pooling3d_1 & (None, 32, 32, 32, 32)\n",
    "counter = 1\n",
    "filt = 32\n",
    "lay = 64\n",
    "while (filt < 512):\n",
    "#     print(\"Contract \" + str(counter), \"&\", \"Conv3D + ReLU & (\" + str(filt) + \", \" + str(lay) + \", \" +  str(lay) + \", \" + str(lay) + \") \\\\\\\\\")\n",
    "    print(\"Contract \" + str(counter), \"&\", \"Conv3D + ReLU & (\" + str(filt) + \", \" + str(lay) + \", \" +  str(lay) + \", \" + str(lay) + \") \\\\\\\\\")\n",
    "    lay = int(lay / 2)\n",
    "    print(\"Contract \" + str(counter), \"&\", \"Max pooling & (\" + str(filt) + \", \" + str(lay) + \", \" +  str(lay) + \", \" + str(lay) + \") \\\\\\\\\")\n",
    "    filt *= 2\n",
    "    counter += 1    \n",
    "\n",
    "    \n",
    "#     2 & Conv3D + ReLU & (64, 64, 64, 64) \\\\\n",
    "#     2 & Max pooling & (64, 32, 32, 32) \\\\"
   ]
  },
  {
   "cell_type": "code",
   "execution_count": 5,
   "metadata": {},
   "outputs": [
    {
     "name": "stdout",
     "output_type": "stream",
     "text": [
      "Expand 4 & Deconvolution3D & (256, 8, 8, 8) \\\\\n",
      "Expand 4 & Concatenation & (512, 8, 8, 8) \\\\\n",
      "Expand 4 & Conv3D + ReLU & (256, 8, 8, 8) \\\\\n",
      "Expand 3 & Deconvolution3D & (128, 16, 16, 16) \\\\\n",
      "Expand 3 & Concatenation & (256, 16, 16, 16) \\\\\n",
      "Expand 3 & Conv3D + ReLU & (128, 16, 16, 16) \\\\\n",
      "Expand 2 & Deconvolution3D & (64, 32, 32, 32) \\\\\n",
      "Expand 2 & Concatenation & (128, 32, 32, 32) \\\\\n",
      "Expand 2 & Conv3D + ReLU & (64, 32, 32, 32) \\\\\n",
      "Expand 1 & Deconvolution3D & (32, 64, 64, 64) \\\\\n",
      "Expand 1 & Concatenation & (64, 64, 64, 64) \\\\\n",
      "Expand 1 & Conv3D + ReLU & (32, 64, 64, 64) \\\\\n"
     ]
    }
   ],
   "source": [
    "lay = 8\n",
    "counter = 4\n",
    "filt = 256\n",
    "while (counter >= 1):\n",
    "    print(\"Expand \" + str(counter), \"&\", \"Deconvolution3D & (\" + str(filt) + \", \" + str(lay) + \", \" +  str(lay) + \", \" + str(lay) + \") \\\\\\\\\")\n",
    "    print(\"Expand \" + str(counter), \"&\", \"Concatenation & (\" + str(filt * 2) + \", \" + str(lay) + \", \" +  str(lay) + \", \" + str(lay) + \") \\\\\\\\\")\n",
    "    print(\"Expand \" + str(counter), \"&\", \"Conv3D + ReLU & (\" + str(filt) + \", \" + str(lay) + \", \" +  str(lay) + \", \" + str(lay) + \") \\\\\\\\\")\n",
    "    filt = int(filt/2)\n",
    "    lay *= 2\n",
    "    counter -= 1"
   ]
  },
  {
   "cell_type": "code",
   "execution_count": 2,
   "metadata": {},
   "outputs": [
    {
     "data": {
      "application/vnd.jupyter.widget-view+json": {
       "model_id": "d73f264f8a1743dbbdc4ad3a8a22f66b",
       "version_major": 2,
       "version_minor": 0
      },
      "text/plain": [
       "interactive(children=(IntSlider(value=64, description='id', max=127), Output()), _dom_classes=('widget-interac…"
      ]
     },
     "metadata": {},
     "output_type": "display_data"
    },
    {
     "name": "stdout",
     "output_type": "stream",
     "text": [
      "0.4711363958761286\n"
     ]
    }
   ],
   "source": [
    "# # weights-01-0.02-0429-binary-patch.hdf5\n",
    "# # train_result = h5py.File(\"./model/h5df_data/train_result-0429-binary-patch.h5\", 'r')\n",
    "# train_result_binary = h5py.File(\"./model/h5df_data/train_result_binary.h5\", 'r')\n",
    "\n",
    "# d.show_image([train_result_binary[\"result\"][0, :], train_result_binary[\"result\"][1, :], train_result_binary[\"result\"][2, :]])\n",
    "# print(K.eval(dice_coefficient(train_result_binary[\"result\"][1, :], train_result_binary[\"result\"][2, :])))\n",
    "# # print(train_result[\"dice\"][()])"
   ]
  },
  {
   "cell_type": "code",
   "execution_count": 5,
   "metadata": {},
   "outputs": [
    {
     "data": {
      "application/vnd.jupyter.widget-view+json": {
       "model_id": "793b4f68dcbc4828aa2ffec37ed6c028",
       "version_major": 2,
       "version_minor": 0
      },
      "text/plain": [
       "interactive(children=(IntSlider(value=64, description='id', max=127), Output()), _dom_classes=('widget-interac…"
      ]
     },
     "metadata": {},
     "output_type": "display_data"
    },
    {
     "ename": "TypeError",
     "evalue": "Input 'y' of 'Mul' Op has type bool that does not match type float64 of argument 'x'.",
     "output_type": "error",
     "traceback": [
      "\u001b[0;31m---------------------------------------------------------------------------\u001b[0m",
      "\u001b[0;31mValueError\u001b[0m                                Traceback (most recent call last)",
      "\u001b[0;32m~/miniconda3/envs/mscond/lib/python3.6/site-packages/tensorflow/python/framework/op_def_library.py\u001b[0m in \u001b[0;36m_apply_op_helper\u001b[0;34m(self, op_type_name, name, **keywords)\u001b[0m\n\u001b[1;32m    509\u001b[0m                 \u001b[0mas_ref\u001b[0m\u001b[0;34m=\u001b[0m\u001b[0minput_arg\u001b[0m\u001b[0;34m.\u001b[0m\u001b[0mis_ref\u001b[0m\u001b[0;34m,\u001b[0m\u001b[0;34m\u001b[0m\u001b[0;34m\u001b[0m\u001b[0m\n\u001b[0;32m--> 510\u001b[0;31m                 preferred_dtype=default_dtype)\n\u001b[0m\u001b[1;32m    511\u001b[0m           \u001b[0;32mexcept\u001b[0m \u001b[0mTypeError\u001b[0m \u001b[0;32mas\u001b[0m \u001b[0merr\u001b[0m\u001b[0;34m:\u001b[0m\u001b[0;34m\u001b[0m\u001b[0;34m\u001b[0m\u001b[0m\n",
      "\u001b[0;32m~/miniconda3/envs/mscond/lib/python3.6/site-packages/tensorflow/python/framework/ops.py\u001b[0m in \u001b[0;36minternal_convert_to_tensor\u001b[0;34m(value, dtype, name, as_ref, preferred_dtype, ctx)\u001b[0m\n\u001b[1;32m   1145\u001b[0m     \u001b[0;32mif\u001b[0m \u001b[0mret\u001b[0m \u001b[0;32mis\u001b[0m \u001b[0;32mNone\u001b[0m\u001b[0;34m:\u001b[0m\u001b[0;34m\u001b[0m\u001b[0;34m\u001b[0m\u001b[0m\n\u001b[0;32m-> 1146\u001b[0;31m       \u001b[0mret\u001b[0m \u001b[0;34m=\u001b[0m \u001b[0mconversion_func\u001b[0m\u001b[0;34m(\u001b[0m\u001b[0mvalue\u001b[0m\u001b[0;34m,\u001b[0m \u001b[0mdtype\u001b[0m\u001b[0;34m=\u001b[0m\u001b[0mdtype\u001b[0m\u001b[0;34m,\u001b[0m \u001b[0mname\u001b[0m\u001b[0;34m=\u001b[0m\u001b[0mname\u001b[0m\u001b[0;34m,\u001b[0m \u001b[0mas_ref\u001b[0m\u001b[0;34m=\u001b[0m\u001b[0mas_ref\u001b[0m\u001b[0;34m)\u001b[0m\u001b[0;34m\u001b[0m\u001b[0;34m\u001b[0m\u001b[0m\n\u001b[0m\u001b[1;32m   1147\u001b[0m \u001b[0;34m\u001b[0m\u001b[0m\n",
      "\u001b[0;32m~/miniconda3/envs/mscond/lib/python3.6/site-packages/tensorflow/python/framework/ops.py\u001b[0m in \u001b[0;36m_TensorTensorConversionFunction\u001b[0;34m(t, dtype, name, as_ref)\u001b[0m\n\u001b[1;32m    982\u001b[0m         \u001b[0;34m\"Tensor conversion requested dtype %s for Tensor with dtype %s: %r\"\u001b[0m \u001b[0;34m%\u001b[0m\u001b[0;34m\u001b[0m\u001b[0;34m\u001b[0m\u001b[0m\n\u001b[0;32m--> 983\u001b[0;31m         (dtype.name, t.dtype.name, str(t)))\n\u001b[0m\u001b[1;32m    984\u001b[0m   \u001b[0;32mreturn\u001b[0m \u001b[0mt\u001b[0m\u001b[0;34m\u001b[0m\u001b[0;34m\u001b[0m\u001b[0m\n",
      "\u001b[0;31mValueError\u001b[0m: Tensor conversion requested dtype float64 for Tensor with dtype bool: 'Tensor(\"Reshape_5:0\", shape=(8388608,), dtype=bool)'",
      "\nDuring handling of the above exception, another exception occurred:\n",
      "\u001b[0;31mTypeError\u001b[0m                                 Traceback (most recent call last)",
      "\u001b[0;32m<ipython-input-5-9f1c6ac2b52e>\u001b[0m in \u001b[0;36m<module>\u001b[0;34m\u001b[0m\n\u001b[1;32m      2\u001b[0m \u001b[0;34m\u001b[0m\u001b[0m\n\u001b[1;32m      3\u001b[0m \u001b[0md\u001b[0m\u001b[0;34m.\u001b[0m\u001b[0mshow_image\u001b[0m\u001b[0;34m(\u001b[0m\u001b[0;34m[\u001b[0m\u001b[0mtrain_result_dice\u001b[0m\u001b[0;34m[\u001b[0m\u001b[0;34m\"result\"\u001b[0m\u001b[0;34m]\u001b[0m\u001b[0;34m[\u001b[0m\u001b[0;36m0\u001b[0m\u001b[0;34m,\u001b[0m \u001b[0;34m:\u001b[0m\u001b[0;34m]\u001b[0m\u001b[0;34m,\u001b[0m \u001b[0mtrain_result_dice\u001b[0m\u001b[0;34m[\u001b[0m\u001b[0;34m\"result\"\u001b[0m\u001b[0;34m]\u001b[0m\u001b[0;34m[\u001b[0m\u001b[0;36m1\u001b[0m\u001b[0;34m,\u001b[0m \u001b[0;34m:\u001b[0m\u001b[0;34m]\u001b[0m\u001b[0;34m,\u001b[0m \u001b[0mtrain_result_dice\u001b[0m\u001b[0;34m[\u001b[0m\u001b[0;34m\"result\"\u001b[0m\u001b[0;34m]\u001b[0m\u001b[0;34m[\u001b[0m\u001b[0;36m2\u001b[0m\u001b[0;34m,\u001b[0m \u001b[0;34m:\u001b[0m\u001b[0;34m]\u001b[0m\u001b[0;34m>\u001b[0m\u001b[0;36m0.01\u001b[0m\u001b[0;34m]\u001b[0m\u001b[0;34m)\u001b[0m\u001b[0;34m\u001b[0m\u001b[0;34m\u001b[0m\u001b[0m\n\u001b[0;32m----> 4\u001b[0;31m \u001b[0mprint\u001b[0m\u001b[0;34m(\u001b[0m\u001b[0mK\u001b[0m\u001b[0;34m.\u001b[0m\u001b[0meval\u001b[0m\u001b[0;34m(\u001b[0m\u001b[0mdice_coefficient\u001b[0m\u001b[0;34m(\u001b[0m\u001b[0mtrain_result_dice\u001b[0m\u001b[0;34m[\u001b[0m\u001b[0;34m\"result\"\u001b[0m\u001b[0;34m]\u001b[0m\u001b[0;34m[\u001b[0m\u001b[0;36m1\u001b[0m\u001b[0;34m,\u001b[0m \u001b[0;34m:\u001b[0m\u001b[0;34m]\u001b[0m\u001b[0;34m,\u001b[0m \u001b[0mtrain_result_dice\u001b[0m\u001b[0;34m[\u001b[0m\u001b[0;34m\"result\"\u001b[0m\u001b[0;34m]\u001b[0m\u001b[0;34m[\u001b[0m\u001b[0;36m2\u001b[0m\u001b[0;34m,\u001b[0m \u001b[0;34m:\u001b[0m\u001b[0;34m]\u001b[0m\u001b[0;34m>\u001b[0m\u001b[0;36m0.01\u001b[0m\u001b[0;34m)\u001b[0m\u001b[0;34m)\u001b[0m\u001b[0;34m)\u001b[0m\u001b[0;34m\u001b[0m\u001b[0;34m\u001b[0m\u001b[0m\n\u001b[0m",
      "\u001b[0;32m/scratch/yl4217/MS-Lesion-Segmentation/model/dice.py\u001b[0m in \u001b[0;36mdice_coefficient\u001b[0;34m(y_true, y_pred, smooth)\u001b[0m\n\u001b[1;32m     10\u001b[0m     \u001b[0my_true_f\u001b[0m \u001b[0;34m=\u001b[0m \u001b[0mK\u001b[0m\u001b[0;34m.\u001b[0m\u001b[0mflatten\u001b[0m\u001b[0;34m(\u001b[0m\u001b[0my_true\u001b[0m\u001b[0;34m)\u001b[0m\u001b[0;34m\u001b[0m\u001b[0;34m\u001b[0m\u001b[0m\n\u001b[1;32m     11\u001b[0m     \u001b[0my_pred_f\u001b[0m \u001b[0;34m=\u001b[0m \u001b[0mK\u001b[0m\u001b[0;34m.\u001b[0m\u001b[0mflatten\u001b[0m\u001b[0;34m(\u001b[0m\u001b[0my_pred\u001b[0m\u001b[0;34m)\u001b[0m\u001b[0;34m\u001b[0m\u001b[0;34m\u001b[0m\u001b[0m\n\u001b[0;32m---> 12\u001b[0;31m     \u001b[0mintersec\u001b[0m \u001b[0;34m=\u001b[0m \u001b[0mK\u001b[0m\u001b[0;34m.\u001b[0m\u001b[0msum\u001b[0m\u001b[0;34m(\u001b[0m\u001b[0my_true_f\u001b[0m \u001b[0;34m*\u001b[0m \u001b[0my_pred_f\u001b[0m\u001b[0;34m)\u001b[0m\u001b[0;34m\u001b[0m\u001b[0;34m\u001b[0m\u001b[0m\n\u001b[0m\u001b[1;32m     13\u001b[0m     \u001b[0;32mreturn\u001b[0m \u001b[0;34m(\u001b[0m\u001b[0;36m2.\u001b[0m \u001b[0;34m*\u001b[0m \u001b[0mintersec\u001b[0m \u001b[0;34m+\u001b[0m \u001b[0msmooth\u001b[0m\u001b[0;34m)\u001b[0m \u001b[0;34m/\u001b[0m \u001b[0;34m(\u001b[0m\u001b[0mK\u001b[0m\u001b[0;34m.\u001b[0m\u001b[0msum\u001b[0m\u001b[0;34m(\u001b[0m\u001b[0my_true_f\u001b[0m\u001b[0;34m)\u001b[0m \u001b[0;34m+\u001b[0m \u001b[0mK\u001b[0m\u001b[0;34m.\u001b[0m\u001b[0msum\u001b[0m\u001b[0;34m(\u001b[0m\u001b[0my_pred_f\u001b[0m\u001b[0;34m)\u001b[0m \u001b[0;34m+\u001b[0m \u001b[0msmooth\u001b[0m\u001b[0;34m)\u001b[0m\u001b[0;34m\u001b[0m\u001b[0;34m\u001b[0m\u001b[0m\n\u001b[1;32m     14\u001b[0m \u001b[0;34m\u001b[0m\u001b[0m\n",
      "\u001b[0;32m~/miniconda3/envs/mscond/lib/python3.6/site-packages/tensorflow/python/ops/math_ops.py\u001b[0m in \u001b[0;36mbinary_op_wrapper\u001b[0;34m(x, y)\u001b[0m\n\u001b[1;32m    864\u001b[0m     \u001b[0;32mwith\u001b[0m \u001b[0mops\u001b[0m\u001b[0;34m.\u001b[0m\u001b[0mname_scope\u001b[0m\u001b[0;34m(\u001b[0m\u001b[0;32mNone\u001b[0m\u001b[0;34m,\u001b[0m \u001b[0mop_name\u001b[0m\u001b[0;34m,\u001b[0m \u001b[0;34m[\u001b[0m\u001b[0mx\u001b[0m\u001b[0;34m,\u001b[0m \u001b[0my\u001b[0m\u001b[0;34m]\u001b[0m\u001b[0;34m)\u001b[0m \u001b[0;32mas\u001b[0m \u001b[0mname\u001b[0m\u001b[0;34m:\u001b[0m\u001b[0;34m\u001b[0m\u001b[0;34m\u001b[0m\u001b[0m\n\u001b[1;32m    865\u001b[0m       \u001b[0;32mif\u001b[0m \u001b[0misinstance\u001b[0m\u001b[0;34m(\u001b[0m\u001b[0mx\u001b[0m\u001b[0;34m,\u001b[0m \u001b[0mops\u001b[0m\u001b[0;34m.\u001b[0m\u001b[0mTensor\u001b[0m\u001b[0;34m)\u001b[0m \u001b[0;32mand\u001b[0m \u001b[0misinstance\u001b[0m\u001b[0;34m(\u001b[0m\u001b[0my\u001b[0m\u001b[0;34m,\u001b[0m \u001b[0mops\u001b[0m\u001b[0;34m.\u001b[0m\u001b[0mTensor\u001b[0m\u001b[0;34m)\u001b[0m\u001b[0;34m:\u001b[0m\u001b[0;34m\u001b[0m\u001b[0;34m\u001b[0m\u001b[0m\n\u001b[0;32m--> 866\u001b[0;31m         \u001b[0;32mreturn\u001b[0m \u001b[0mfunc\u001b[0m\u001b[0;34m(\u001b[0m\u001b[0mx\u001b[0m\u001b[0;34m,\u001b[0m \u001b[0my\u001b[0m\u001b[0;34m,\u001b[0m \u001b[0mname\u001b[0m\u001b[0;34m=\u001b[0m\u001b[0mname\u001b[0m\u001b[0;34m)\u001b[0m\u001b[0;34m\u001b[0m\u001b[0;34m\u001b[0m\u001b[0m\n\u001b[0m\u001b[1;32m    867\u001b[0m       \u001b[0;32melif\u001b[0m \u001b[0;32mnot\u001b[0m \u001b[0misinstance\u001b[0m\u001b[0;34m(\u001b[0m\u001b[0my\u001b[0m\u001b[0;34m,\u001b[0m \u001b[0msparse_tensor\u001b[0m\u001b[0;34m.\u001b[0m\u001b[0mSparseTensor\u001b[0m\u001b[0;34m)\u001b[0m\u001b[0;34m:\u001b[0m\u001b[0;34m\u001b[0m\u001b[0;34m\u001b[0m\u001b[0m\n\u001b[1;32m    868\u001b[0m         \u001b[0;32mtry\u001b[0m\u001b[0;34m:\u001b[0m\u001b[0;34m\u001b[0m\u001b[0;34m\u001b[0m\u001b[0m\n",
      "\u001b[0;32m~/miniconda3/envs/mscond/lib/python3.6/site-packages/tensorflow/python/ops/math_ops.py\u001b[0m in \u001b[0;36m_mul_dispatch\u001b[0;34m(x, y, name)\u001b[0m\n\u001b[1;32m   1129\u001b[0m   \u001b[0mis_tensor_y\u001b[0m \u001b[0;34m=\u001b[0m \u001b[0misinstance\u001b[0m\u001b[0;34m(\u001b[0m\u001b[0my\u001b[0m\u001b[0;34m,\u001b[0m \u001b[0mops\u001b[0m\u001b[0;34m.\u001b[0m\u001b[0mTensor\u001b[0m\u001b[0;34m)\u001b[0m\u001b[0;34m\u001b[0m\u001b[0;34m\u001b[0m\u001b[0m\n\u001b[1;32m   1130\u001b[0m   \u001b[0;32mif\u001b[0m \u001b[0mis_tensor_y\u001b[0m\u001b[0;34m:\u001b[0m\u001b[0;34m\u001b[0m\u001b[0;34m\u001b[0m\u001b[0m\n\u001b[0;32m-> 1131\u001b[0;31m     \u001b[0;32mreturn\u001b[0m \u001b[0mgen_math_ops\u001b[0m\u001b[0;34m.\u001b[0m\u001b[0mmul\u001b[0m\u001b[0;34m(\u001b[0m\u001b[0mx\u001b[0m\u001b[0;34m,\u001b[0m \u001b[0my\u001b[0m\u001b[0;34m,\u001b[0m \u001b[0mname\u001b[0m\u001b[0;34m=\u001b[0m\u001b[0mname\u001b[0m\u001b[0;34m)\u001b[0m\u001b[0;34m\u001b[0m\u001b[0;34m\u001b[0m\u001b[0m\n\u001b[0m\u001b[1;32m   1132\u001b[0m   \u001b[0;32melse\u001b[0m\u001b[0;34m:\u001b[0m\u001b[0;34m\u001b[0m\u001b[0;34m\u001b[0m\u001b[0m\n\u001b[1;32m   1133\u001b[0m     \u001b[0;32massert\u001b[0m \u001b[0misinstance\u001b[0m\u001b[0;34m(\u001b[0m\u001b[0my\u001b[0m\u001b[0;34m,\u001b[0m \u001b[0msparse_tensor\u001b[0m\u001b[0;34m.\u001b[0m\u001b[0mSparseTensor\u001b[0m\u001b[0;34m)\u001b[0m  \u001b[0;31m# Case: Dense * Sparse.\u001b[0m\u001b[0;34m\u001b[0m\u001b[0;34m\u001b[0m\u001b[0m\n",
      "\u001b[0;32m~/miniconda3/envs/mscond/lib/python3.6/site-packages/tensorflow/python/ops/gen_math_ops.py\u001b[0m in \u001b[0;36mmul\u001b[0;34m(x, y, name)\u001b[0m\n\u001b[1;32m   5040\u001b[0m   \u001b[0;32mif\u001b[0m \u001b[0m_ctx\u001b[0m \u001b[0;32mis\u001b[0m \u001b[0;32mNone\u001b[0m \u001b[0;32mor\u001b[0m \u001b[0;32mnot\u001b[0m \u001b[0m_ctx\u001b[0m\u001b[0;34m.\u001b[0m\u001b[0m_eager_context\u001b[0m\u001b[0;34m.\u001b[0m\u001b[0mis_eager\u001b[0m\u001b[0;34m:\u001b[0m\u001b[0;34m\u001b[0m\u001b[0;34m\u001b[0m\u001b[0m\n\u001b[1;32m   5041\u001b[0m     _, _, _op = _op_def_lib._apply_op_helper(\n\u001b[0;32m-> 5042\u001b[0;31m         \"Mul\", x=x, y=y, name=name)\n\u001b[0m\u001b[1;32m   5043\u001b[0m     \u001b[0m_result\u001b[0m \u001b[0;34m=\u001b[0m \u001b[0m_op\u001b[0m\u001b[0;34m.\u001b[0m\u001b[0moutputs\u001b[0m\u001b[0;34m[\u001b[0m\u001b[0;34m:\u001b[0m\u001b[0;34m]\u001b[0m\u001b[0;34m\u001b[0m\u001b[0;34m\u001b[0m\u001b[0m\n\u001b[1;32m   5044\u001b[0m     \u001b[0m_inputs_flat\u001b[0m \u001b[0;34m=\u001b[0m \u001b[0m_op\u001b[0m\u001b[0;34m.\u001b[0m\u001b[0minputs\u001b[0m\u001b[0;34m\u001b[0m\u001b[0;34m\u001b[0m\u001b[0m\n",
      "\u001b[0;32m~/miniconda3/envs/mscond/lib/python3.6/site-packages/tensorflow/python/framework/op_def_library.py\u001b[0m in \u001b[0;36m_apply_op_helper\u001b[0;34m(self, op_type_name, name, **keywords)\u001b[0m\n\u001b[1;32m    544\u001b[0m                   \u001b[0;34m\"%s type %s of argument '%s'.\"\u001b[0m \u001b[0;34m%\u001b[0m\u001b[0;34m\u001b[0m\u001b[0;34m\u001b[0m\u001b[0m\n\u001b[1;32m    545\u001b[0m                   (prefix, dtypes.as_dtype(attrs[input_arg.type_attr]).name,\n\u001b[0;32m--> 546\u001b[0;31m                    inferred_from[input_arg.type_attr]))\n\u001b[0m\u001b[1;32m    547\u001b[0m \u001b[0;34m\u001b[0m\u001b[0m\n\u001b[1;32m    548\u001b[0m           \u001b[0mtypes\u001b[0m \u001b[0;34m=\u001b[0m \u001b[0;34m[\u001b[0m\u001b[0mvalues\u001b[0m\u001b[0;34m.\u001b[0m\u001b[0mdtype\u001b[0m\u001b[0;34m]\u001b[0m\u001b[0;34m\u001b[0m\u001b[0;34m\u001b[0m\u001b[0m\n",
      "\u001b[0;31mTypeError\u001b[0m: Input 'y' of 'Mul' Op has type bool that does not match type float64 of argument 'x'."
     ]
    }
   ],
   "source": [
    "train_result_dice = h5py.File(\"./model/h5df_data/train_result_dice.h5\", 'r')\n",
    "\n",
    "d.show_image([train_result_dice[\"result\"][0, :], train_result_dice[\"result\"][1, :], train_result_dice[\"result\"][2, :]])\n",
    "print(K.eval(dice_coefficient(train_result_dice[\"result\"][1, :], train_result_dice[\"result\"][2, :])))\n"
   ]
  },
  {
   "cell_type": "code",
   "execution_count": 3,
   "metadata": {},
   "outputs": [
    {
     "data": {
      "application/vnd.jupyter.widget-view+json": {
       "model_id": "26f14ca5d8f545c98f45b8ae94f10a19",
       "version_major": 2,
       "version_minor": 0
      },
      "text/plain": [
       "interactive(children=(IntSlider(value=64, description='id', max=127), Output()), _dom_classes=('widget-interac…"
      ]
     },
     "metadata": {},
     "output_type": "display_data"
    },
    {
     "name": "stdout",
     "output_type": "stream",
     "text": [
      "0.8490502189334224\n"
     ]
    }
   ],
   "source": [
    "train_result_dice_2 = h5py.File(\"./model/h5df_data/train_result_dice_0.84.h5\", 'r')\n",
    "\n",
    "d.show_image([train_result_dice_2[\"result\"][0, :], train_result_dice_2[\"result\"][1, :], train_result_dice_2[\"result\"][2, :]])\n",
    "print(K.eval(dice_coefficient(train_result_dice_2[\"result\"][1, :], train_result_dice_2[\"result\"][2, :])))\n"
   ]
  },
  {
   "cell_type": "code",
   "execution_count": 17,
   "metadata": {},
   "outputs": [
    {
     "name": "stdout",
     "output_type": "stream",
     "text": [
      "(128, 256, 256)\n"
     ]
    }
   ],
   "source": [
    "# print((train_result_dice_2[\"result\"][2, :])[0][0].shape)\n",
    "# img = nib.Nifti1Image(train_result_dice_2[\"result\"][2, :][0][0], np.eye(4))\n",
    "# nib.save(img, \"test.nii\")"
   ]
  },
  {
   "cell_type": "code",
   "execution_count": 7,
   "metadata": {},
   "outputs": [],
   "source": [
    "def store_nii(arr):\n",
    "    for i in arr:\n",
    "        for j in range(3):\n",
    "            nib.save(nib.Nifti1Image(i[\"result\"][j, :][0][0], np.eye(4)), \"dice_\" + str(i) + \"_\" + str(j) + \".nii\")\n",
    "    \n",
    "store_nii([train_result_dice, train_result_dice_2])"
   ]
  },
  {
   "cell_type": "code",
   "execution_count": 11,
   "metadata": {},
   "outputs": [
    {
     "name": "stdout",
     "output_type": "stream",
     "text": [
      "50\n",
      "1 & 0.6660 & 0.3340 & 0.6342 & 0.3658 \\\\\n",
      "2 & 0.8815 & 0.1185 & 0.6482 & 0.3518 \\\\\n",
      "3 & 0.9236 & 0.0764 & 0.6888 & 0.3112 \\\\\n",
      "4 & 0.9440 & 0.0560 & 0.6769 & 0.3231 \\\\\n",
      "5 & 0.9556 & 0.0444 & 0.6774 & 0.3226 \\\\\n",
      "1 & 0.4730 & 0.0317 & 0.6415 & 0.0177 \\\\\n",
      "2 & 0.8461 & 0.0040 & 0.6588 & 0.0249 \\\\\n",
      "3 & 0.9154 & 0.0023 & 0.6816 & 0.0284 \\\\\n",
      "4 & 0.9459 & 0.0016 & 0.6966 & 0.0321 \\\\\n",
      "5 & 0.9655 & 0.0011 & 0.7055 & 0.0344 \\\\\n"
     ]
    }
   ],
   "source": [
    "file = [0,0.666024301901755,0.333975698047538,0.6342173402931776,0.3657826595818219,\\\n",
    "1,0.8815179627907102,0.11848203722018623,0.6481558400891895,0.35184415940933184,\\\n",
    "2,0.9235672374277405,0.07643276257755388,0.6888015779389378,0.31119842191141295,\\\n",
    "3,0.9440241258669252,0.055975874132310276,0.6769264744065904,0.3230735257285949,\\\n",
    "4,0.9555893896521793,0.044410610346546496,0.67736474576553,0.3226352540983094,\\\n",
    "0,0.47295483993334,0.03171479501517624,0.6415152951228181,0.01774603456081989,\\\n",
    "1,0.8460512070185201,0.004043289964156918,0.6588427760330703,0.02491079024496241,\\\n",
    "2,0.915436525170012,0.0023498941735349663,0.6816248099683364,0.028382775247403028,\\\n",
    "3,0.945856740332663,0.0015844848736202527,0.6965642363072004,0.0321052242875537,\\\n",
    "4,0.9655379297668429,0.0010783389234943403,0.7055231118234315,0.034446345735856254]\n",
    "\n",
    "print(len(file))\n",
    "for i in range(int(len(file)/5)):\n",
    "    print(str(file[i * 5] + 1) + ' & ', end=\"\")\n",
    "    for j in range(1, 5):\n",
    "        if j != 4:\n",
    "            print(\"{0:.4f}\".format(file[i*5 + j]) + ' & ', end=\"\")\n",
    "        else:\n",
    "            print(\"{0:.4f}\".format(file[i*5 + j]) + ' \\\\\\\\')\n",
    "                "
   ]
  },
  {
   "cell_type": "code",
   "execution_count": null,
   "metadata": {},
   "outputs": [],
   "source": []
  }
 ],
 "metadata": {
  "kernelspec": {
   "display_name": "Python 3",
   "language": "python",
   "name": "python3"
  },
  "language_info": {
   "codemirror_mode": {
    "name": "ipython",
    "version": 3
   },
   "file_extension": ".py",
   "mimetype": "text/x-python",
   "name": "python",
   "nbconvert_exporter": "python",
   "pygments_lexer": "ipython3",
   "version": "3.6.8"
  }
 },
 "nbformat": 4,
 "nbformat_minor": 2
}
