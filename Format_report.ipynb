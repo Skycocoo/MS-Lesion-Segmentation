{
 "cells": [
  {
   "cell_type": "code",
   "execution_count": 1,
   "metadata": {},
   "outputs": [
    {
     "name": "stderr",
     "output_type": "stream",
     "text": [
      "Using TensorFlow backend.\n"
     ]
    }
   ],
   "source": [
    "from model.data import *\n",
    "from model.model import *\n",
    "d = Data()"
   ]
  },
  {
   "cell_type": "code",
   "execution_count": null,
   "metadata": {},
   "outputs": [],
   "source": [
    "import os\n",
    "\n",
    "config = {}\n",
    "config[\"weights_file\"] = os.getcwd() + '/model/weight'\n",
    "config[\"patch_size\"] = (64, 64, 64)  # switch to None to train on the whole image\n",
    "config[\"patch_gap\"] = 16\n",
    "config[\"batch_size\"] = 10\n",
    "config[\"kfold\"] = 5\n",
    "\n",
    "config[\"input_shape\"] = (1, 64, 64, 64)\n",
    "config[\"depth\"] = 4 # depth of layers for V/Unet\n",
    "config[\"n_base_filters\"] = 32\n",
    "config[\"pool_size\"] = (2, 2, 2)  # pool size for the max pooling operations\n",
    "config[\"deconvolution\"] = True  # if False, will use upsampling instead of deconvolution\n",
    "\n",
    "config[\"patience\"] = 10  # learning rate will be reduced after this many epochs if the validation loss is not improving\n",
    "config[\"early_stop\"] = 10  # training will be stopped after this many epochs without the validation loss improving\n",
    "config[\"initial_learning_rate\"] = 0.00001\n",
    "config[\"learning_rate_drop\"] = 0.5  # factor by which the learning rate will be reduced\n",
    "config[\"n_epochs\"] = 1\n",
    "\n",
    "model = unet_model_3d(input_shape=config[\"input_shape\"],\n",
    "                              pool_size=config[\"pool_size\"],\n",
    "                              initial_learning_rate=config[\"initial_learning_rate\"],\n",
    "                              deconvolution=config[\"deconvolution\"],\n",
    "                              depth=config[\"depth\"],\n",
    "                              n_base_filters=config[\"n_base_filters\"])\n",
    "\n",
    "# model.summary()\n",
    "counter = 1\n",
    "for layer in model.layers:\n",
    "    print(counter, \"&\", layer.name, \"&\", layer.output_shape)\n",
    "    counter += 1\n"
   ]
  },
  {
   "cell_type": "code",
   "execution_count": 4,
   "metadata": {
    "scrolled": true
   },
   "outputs": [
    {
     "name": "stdout",
     "output_type": "stream",
     "text": [
      "Contract 1 & Conv3D + ReLU & (32, 64, 64, 64) \\\\\n",
      "Contract 1 & Max pooling & (32, 32, 32, 32) \\\\\n",
      "Contract 2 & Conv3D + ReLU & (64, 32, 32, 32) \\\\\n",
      "Contract 2 & Max pooling & (64, 16, 16, 16) \\\\\n",
      "Contract 3 & Conv3D + ReLU & (128, 16, 16, 16) \\\\\n",
      "Contract 3 & Max pooling & (128, 8, 8, 8) \\\\\n",
      "Contract 4 & Conv3D + ReLU & (256, 8, 8, 8) \\\\\n",
      "Contract 4 & Max pooling & (256, 4, 4, 4) \\\\\n"
     ]
    }
   ],
   "source": [
    "# 2 & conv3d_1 & (None, 32, 64, 64, 64)\n",
    "# 3 & activation_1 & (None, 32, 64, 64, 64)\n",
    "# 4 & conv3d_2 & (None, 32, 64, 64, 64)\n",
    "# 5 & activation_2 & (None, 32, 64, 64, 64)\n",
    "# 6 & max_pooling3d_1 & (None, 32, 32, 32, 32)\n",
    "counter = 1\n",
    "filt = 32\n",
    "lay = 64\n",
    "while (filt < 512):\n",
    "#     print(\"Contract \" + str(counter), \"&\", \"Conv3D + ReLU & (\" + str(filt) + \", \" + str(lay) + \", \" +  str(lay) + \", \" + str(lay) + \") \\\\\\\\\")\n",
    "    print(\"Contract \" + str(counter), \"&\", \"Conv3D + ReLU & (\" + str(filt) + \", \" + str(lay) + \", \" +  str(lay) + \", \" + str(lay) + \") \\\\\\\\\")\n",
    "    lay = int(lay / 2)\n",
    "    print(\"Contract \" + str(counter), \"&\", \"Max pooling & (\" + str(filt) + \", \" + str(lay) + \", \" +  str(lay) + \", \" + str(lay) + \") \\\\\\\\\")\n",
    "    filt *= 2\n",
    "    counter += 1    \n",
    "\n",
    "    \n",
    "#     2 & Conv3D + ReLU & (64, 64, 64, 64) \\\\\n",
    "#     2 & Max pooling & (64, 32, 32, 32) \\\\"
   ]
  },
  {
   "cell_type": "code",
   "execution_count": 5,
   "metadata": {},
   "outputs": [
    {
     "name": "stdout",
     "output_type": "stream",
     "text": [
      "Expand 4 & Deconvolution3D & (256, 8, 8, 8) \\\\\n",
      "Expand 4 & Concatenation & (512, 8, 8, 8) \\\\\n",
      "Expand 4 & Conv3D + ReLU & (256, 8, 8, 8) \\\\\n",
      "Expand 3 & Deconvolution3D & (128, 16, 16, 16) \\\\\n",
      "Expand 3 & Concatenation & (256, 16, 16, 16) \\\\\n",
      "Expand 3 & Conv3D + ReLU & (128, 16, 16, 16) \\\\\n",
      "Expand 2 & Deconvolution3D & (64, 32, 32, 32) \\\\\n",
      "Expand 2 & Concatenation & (128, 32, 32, 32) \\\\\n",
      "Expand 2 & Conv3D + ReLU & (64, 32, 32, 32) \\\\\n",
      "Expand 1 & Deconvolution3D & (32, 64, 64, 64) \\\\\n",
      "Expand 1 & Concatenation & (64, 64, 64, 64) \\\\\n",
      "Expand 1 & Conv3D + ReLU & (32, 64, 64, 64) \\\\\n"
     ]
    }
   ],
   "source": [
    "lay = 8\n",
    "counter = 4\n",
    "filt = 256\n",
    "while (counter >= 1):\n",
    "    print(\"Expand \" + str(counter), \"&\", \"Deconvolution3D & (\" + str(filt) + \", \" + str(lay) + \", \" +  str(lay) + \", \" + str(lay) + \") \\\\\\\\\")\n",
    "    print(\"Expand \" + str(counter), \"&\", \"Concatenation & (\" + str(filt * 2) + \", \" + str(lay) + \", \" +  str(lay) + \", \" + str(lay) + \") \\\\\\\\\")\n",
    "    print(\"Expand \" + str(counter), \"&\", \"Conv3D + ReLU & (\" + str(filt) + \", \" + str(lay) + \", \" +  str(lay) + \", \" + str(lay) + \") \\\\\\\\\")\n",
    "    filt = int(filt/2)\n",
    "    lay *= 2\n",
    "    counter -= 1"
   ]
  },
  {
   "cell_type": "code",
   "execution_count": 2,
   "metadata": {},
   "outputs": [
    {
     "name": "stdout",
     "output_type": "stream",
     "text": [
      "50\n",
      "1 & 0.5830 & 0.4170 & 0.5997 & 0.4003 \\\\\n",
      "2 & 0.8044 & 0.1956 & 0.6422 & 0.3578 \\\\\n",
      "3 & 0.8709 & 0.1291 & 0.6454 & 0.3546 \\\\\n",
      "4 & 0.9003 & 0.0997 & 0.6616 & 0.3384 \\\\\n",
      "5 & 0.9188 & 0.0812 & 0.6561 & 0.3439 \\\\\n",
      "6 & 0.9302 & 0.0698 & 0.6407 & 0.3593 \\\\\n",
      "7 & 0.9387 & 0.0613 & 0.6566 & 0.3434 \\\\\n",
      "8 & 0.9453 & 0.0547 & 0.6571 & 0.3429 \\\\\n",
      "9 & 0.9504 & 0.0496 & 0.6355 & 0.3645 \\\\\n",
      "10 & 0.9545 & 0.0455 & 0.6473 & 0.3527 \\\\\n"
     ]
    }
   ],
   "source": [
    "file = [0,0.5829777736985029,0.4170222262883388,0.5996851144842315,0.400314885493062,\n",
    "1,0.8044424207247803,0.19555757927892792,0.6421565902928003,0.35784340928790076,\n",
    "2,0.8708705066167651,0.12912949338861276,0.6454261354491866,0.35457386387791034,\n",
    "3,0.900348717422359,0.09965128258347583,0.6615997318296588,0.3384002675054874,\n",
    "4,0.9187994508911332,0.08120054911129213,0.6561025248613104,0.3438974755415738,\n",
    "5,0.9301866617832381,0.06981333821409062,0.6407387799607699,0.35926121985314835,\n",
    "6,0.9387168464562851,0.06128315354476948,0.6566260696287656,0.3433739302886857,\n",
    "7,0.9453217551403003,0.0546782448604379,0.6570898626777689,0.34291013755840094,\n",
    "8,0.9503667144051974,0.04963328559311548,0.6355091406934802,0.36449085936346204,\n",
    "9,0.9544701752092806,0.0455298247895595,0.6473466263245875,0.35265337336574487]\n",
    "\n",
    "print(len(file))\n",
    "for i in range(int(len(file)/5)):\n",
    "    print(str(file[i * 5] + 1) + ' & ', end=\"\")\n",
    "    for j in range(1, 5):\n",
    "        if j != 4:\n",
    "            print(\"{0:.4f}\".format(file[i*5 + j]) + ' & ', end=\"\")\n",
    "        else:\n",
    "            print(\"{0:.4f}\".format(file[i*5 + j]) + ' \\\\\\\\')\n",
    "                "
   ]
  },
  {
   "cell_type": "code",
   "execution_count": null,
   "metadata": {},
   "outputs": [],
   "source": []
  }
 ],
 "metadata": {
  "kernelspec": {
   "display_name": "Python 3",
   "language": "python",
   "name": "python3"
  },
  "language_info": {
   "codemirror_mode": {
    "name": "ipython",
    "version": 3
   },
   "file_extension": ".py",
   "mimetype": "text/x-python",
   "name": "python",
   "nbconvert_exporter": "python",
   "pygments_lexer": "ipython3",
   "version": "3.6.8"
  }
 },
 "nbformat": 4,
 "nbformat_minor": 2
}
