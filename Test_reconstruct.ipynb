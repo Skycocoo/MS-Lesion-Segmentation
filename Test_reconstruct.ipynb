{
 "cells": [
  {
   "cell_type": "code",
   "execution_count": 4,
   "metadata": {},
   "outputs": [
    {
     "name": "stdout",
     "output_type": "stream",
     "text": [
      "[[0.0221556  0.0221556  0.0221556  0.0221556  0.0221556 ]\n",
      " [0.0221556  0.06022517 0.06022517 0.06022517 0.0221556 ]\n",
      " [0.0221556  0.06022517 0.16370899 0.06022517 0.0221556 ]\n",
      " [0.0221556  0.06022517 0.06022517 0.06022517 0.0221556 ]\n",
      " [0.0221556  0.0221556  0.0221556  0.0221556  0.0221556 ]]\n",
      "1.0\n"
     ]
    }
   ],
   "source": [
    "import numpy as np\n",
    "\n",
    "dist_mat = np.zeros((5,5))\n",
    "for i in range(5):\n",
    "    for j in range(5):\n",
    "        dist_mat[i,j] = min(i+1,j+1,5-i, 5-j)\n",
    "dist_mat = np.exp(dist_mat)/np.sum(np.exp(dist_mat))\n",
    "print(dist_mat)"
   ]
  },
  {
   "cell_type": "code",
   "execution_count": 12,
   "metadata": {},
   "outputs": [
    {
     "name": "stdout",
     "output_type": "stream",
     "text": [
      "[[1, 1, 1, 1, 1], [1, 1, 1, 1, 1], [2, 2, 2, 2, 2], [1, 1, 1, 1, 1], [0, 0, 0, 0, 0]]\n",
      "[[0.0221556  0.0221556  0.0221556  0.0221556  0.0221556 ]\n",
      " [0.0221556  0.06022517 0.06022517 0.06022517 0.0221556 ]\n",
      " [0.0443112  0.12045034 0.32741798 0.12045034 0.0443112 ]\n",
      " [0.0221556  0.06022517 0.06022517 0.06022517 0.0221556 ]\n",
      " [0.         0.         0.         0.         0.        ]]\n",
      "25 1.21769252493608\n"
     ]
    }
   ],
   "source": [
    "test = [[1,1,1,1,1], [1,1,1,1,1], [2,2,2,2,2], [1,1,1,1,1], [0,0,0,0,0]]\n",
    "print(test)\n",
    "print(test * dist_mat)\n",
    "print(np.sum(test), np.sum(test * dist_mat))"
   ]
  },
  {
   "cell_type": "code",
   "execution_count": null,
   "metadata": {},
   "outputs": [],
   "source": [
    "# from model.recon import *"
   ]
  },
  {
   "cell_type": "code",
   "execution_count": null,
   "metadata": {},
   "outputs": [],
   "source": []
  }
 ],
 "metadata": {
  "kernelspec": {
   "display_name": "Python 3",
   "language": "python",
   "name": "python3"
  },
  "language_info": {
   "codemirror_mode": {
    "name": "ipython",
    "version": 3
   },
   "file_extension": ".py",
   "mimetype": "text/x-python",
   "name": "python",
   "nbconvert_exporter": "python",
   "pygments_lexer": "ipython3",
   "version": "3.6.8"
  }
 },
 "nbformat": 4,
 "nbformat_minor": 2
}
