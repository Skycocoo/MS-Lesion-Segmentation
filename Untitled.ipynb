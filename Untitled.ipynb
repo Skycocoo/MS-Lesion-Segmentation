{
 "cells": [
  {
   "cell_type": "code",
   "execution_count": 5,
   "metadata": {},
   "outputs": [
    {
     "name": "stdout",
     "output_type": "stream",
     "text": [
      "all\n",
      "normal\n",
      "binary\n",
      "all\n"
     ]
    },
    {
     "ename": "KeyboardInterrupt",
     "evalue": "",
     "output_type": "error",
     "traceback": [
      "\u001b[0;31m---------------------------------------------------------------------------\u001b[0m",
      "\u001b[0;31mKeyboardInterrupt\u001b[0m                         Traceback (most recent call last)",
      "\u001b[0;32m<ipython-input-5-5f524f491801>\u001b[0m in \u001b[0;36m<module>\u001b[0;34m\u001b[0m\n\u001b[1;32m     83\u001b[0m         \u001b[0mopt\u001b[0m \u001b[0;34m=\u001b[0m \u001b[0mthreshold\u001b[0m\u001b[0;34m[\u001b[0m\u001b[0mnp\u001b[0m\u001b[0;34m.\u001b[0m\u001b[0margmax\u001b[0m\u001b[0;34m(\u001b[0m\u001b[0mthreshold\u001b[0m\u001b[0;34m)\u001b[0m\u001b[0;34m]\u001b[0m\u001b[0;34m\u001b[0m\u001b[0;34m\u001b[0m\u001b[0m\n\u001b[1;32m     84\u001b[0m         \u001b[0;32mfor\u001b[0m \u001b[0mk\u001b[0m \u001b[0;32min\u001b[0m \u001b[0mtotal\u001b[0m\u001b[0;34m[\u001b[0m\u001b[0mi\u001b[0m\u001b[0;34m]\u001b[0m\u001b[0;34m[\u001b[0m\u001b[0;36m0\u001b[0m\u001b[0;34m]\u001b[0m\u001b[0;34m:\u001b[0m\u001b[0;34m\u001b[0m\u001b[0;34m\u001b[0m\u001b[0m\n\u001b[0;32m---> 85\u001b[0;31m             \u001b[0mnib\u001b[0m\u001b[0;34m.\u001b[0m\u001b[0msave\u001b[0m\u001b[0;34m(\u001b[0m\u001b[0mnib\u001b[0m\u001b[0;34m.\u001b[0m\u001b[0mNifti1Image\u001b[0m\u001b[0;34m(\u001b[0m\u001b[0mnp\u001b[0m\u001b[0;34m.\u001b[0m\u001b[0marray\u001b[0m\u001b[0;34m(\u001b[0m\u001b[0mtotal\u001b[0m\u001b[0;34m[\u001b[0m\u001b[0mi\u001b[0m\u001b[0;34m]\u001b[0m\u001b[0;34m[\u001b[0m\u001b[0mj\u001b[0m\u001b[0;34m]\u001b[0m\u001b[0;34m[\u001b[0m\u001b[0mk\u001b[0m\u001b[0;34m]\u001b[0m\u001b[0;34m[\u001b[0m\u001b[0;34m\"data\"\u001b[0m\u001b[0;34m]\u001b[0m\u001b[0;34m[\u001b[0m\u001b[0;34m:\u001b[0m\u001b[0;34m]\u001b[0m\u001b[0;34m>\u001b[0m\u001b[0mopt\u001b[0m\u001b[0;34m)\u001b[0m\u001b[0;34m.\u001b[0m\u001b[0mastype\u001b[0m\u001b[0;34m(\u001b[0m\u001b[0mint\u001b[0m\u001b[0;34m)\u001b[0m\u001b[0;34m,\u001b[0m \u001b[0mnp\u001b[0m\u001b[0;34m.\u001b[0m\u001b[0meye\u001b[0m\u001b[0;34m(\u001b[0m\u001b[0;36m4\u001b[0m\u001b[0;34m)\u001b[0m\u001b[0;34m)\u001b[0m\u001b[0;34m,\u001b[0m \u001b[0mpath\u001b[0m \u001b[0;34m+\u001b[0m \u001b[0mi\u001b[0m \u001b[0;34m+\u001b[0m \u001b[0;34m'/'\u001b[0m \u001b[0;34m+\u001b[0m \u001b[0mos\u001b[0m\u001b[0;34m.\u001b[0m\u001b[0mpath\u001b[0m\u001b[0;34m.\u001b[0m\u001b[0mbasename\u001b[0m\u001b[0;34m(\u001b[0m\u001b[0mtotal\u001b[0m\u001b[0;34m[\u001b[0m\u001b[0mi\u001b[0m\u001b[0;34m]\u001b[0m\u001b[0;34m[\u001b[0m\u001b[0mj\u001b[0m\u001b[0;34m]\u001b[0m\u001b[0;34m[\u001b[0m\u001b[0mk\u001b[0m\u001b[0;34m]\u001b[0m\u001b[0;34m.\u001b[0m\u001b[0mfilename\u001b[0m\u001b[0;34m)\u001b[0m \u001b[0;34m+\u001b[0m \u001b[0;34m\"_\"\u001b[0m \u001b[0;34m+\u001b[0m \u001b[0mtable\u001b[0m\u001b[0;34m[\u001b[0m\u001b[0mj\u001b[0m\u001b[0;34m]\u001b[0m \u001b[0;34m+\u001b[0m \u001b[0;34m\"_threashold.nii.gz\"\u001b[0m\u001b[0;34m)\u001b[0m\u001b[0;34m\u001b[0m\u001b[0;34m\u001b[0m\u001b[0m\n\u001b[0m\u001b[1;32m     86\u001b[0m \u001b[0;34m\u001b[0m\u001b[0m\n",
      "\u001b[0;32mh5py/_objects.pyx\u001b[0m in \u001b[0;36mh5py._objects.with_phil.wrapper\u001b[0;34m()\u001b[0m\n",
      "\u001b[0;32mh5py/_objects.pyx\u001b[0m in \u001b[0;36mh5py._objects.with_phil.wrapper\u001b[0;34m()\u001b[0m\n",
      "\u001b[0;32m~/miniconda3/envs/mscond/lib/python3.6/site-packages/h5py/_hl/dataset.py\u001b[0m in \u001b[0;36m__getitem__\u001b[0;34m(self, args)\u001b[0m\n\u001b[1;32m    571\u001b[0m         \u001b[0mmspace\u001b[0m \u001b[0;34m=\u001b[0m \u001b[0mh5s\u001b[0m\u001b[0;34m.\u001b[0m\u001b[0mcreate_simple\u001b[0m\u001b[0;34m(\u001b[0m\u001b[0mmshape\u001b[0m\u001b[0;34m)\u001b[0m\u001b[0;34m\u001b[0m\u001b[0;34m\u001b[0m\u001b[0m\n\u001b[1;32m    572\u001b[0m         \u001b[0mfspace\u001b[0m \u001b[0;34m=\u001b[0m \u001b[0mselection\u001b[0m\u001b[0;34m.\u001b[0m\u001b[0mid\u001b[0m\u001b[0;34m\u001b[0m\u001b[0;34m\u001b[0m\u001b[0m\n\u001b[0;32m--> 573\u001b[0;31m         \u001b[0mself\u001b[0m\u001b[0;34m.\u001b[0m\u001b[0mid\u001b[0m\u001b[0;34m.\u001b[0m\u001b[0mread\u001b[0m\u001b[0;34m(\u001b[0m\u001b[0mmspace\u001b[0m\u001b[0;34m,\u001b[0m \u001b[0mfspace\u001b[0m\u001b[0;34m,\u001b[0m \u001b[0marr\u001b[0m\u001b[0;34m,\u001b[0m \u001b[0mmtype\u001b[0m\u001b[0;34m,\u001b[0m \u001b[0mdxpl\u001b[0m\u001b[0;34m=\u001b[0m\u001b[0mself\u001b[0m\u001b[0;34m.\u001b[0m\u001b[0m_dxpl\u001b[0m\u001b[0;34m)\u001b[0m\u001b[0;34m\u001b[0m\u001b[0;34m\u001b[0m\u001b[0m\n\u001b[0m\u001b[1;32m    574\u001b[0m \u001b[0;34m\u001b[0m\u001b[0m\n\u001b[1;32m    575\u001b[0m         \u001b[0;31m# Patch up the output for NumPy\u001b[0m\u001b[0;34m\u001b[0m\u001b[0;34m\u001b[0m\u001b[0;34m\u001b[0m\u001b[0m\n",
      "\u001b[0;31mKeyboardInterrupt\u001b[0m: "
     ]
    },
    {
     "data": {
      "image/png": "[encoded data removed]",
      "text/plain": [
       "<Figure size 432x288 with 1 Axes>"
      ]
     },
     "metadata": {
      "needs_background": "light"
     },
     "output_type": "display_data"
    }
   ],
   "source": [
    "import os\n",
    "\n",
    "os.chdir(\"/scratch/yl4217/MS-Lesion-Segmentation/\")\n",
    "\n",
    "import matplotlib.pyplot as plt\n",
    "import h5py\n",
    "import numpy as np\n",
    "import nibabel as nib\n",
    "from collections import defaultdict\n",
    "\n",
    "def fetch_file():\n",
    "    path = os.getcwd() + '/model/h5df_data/recon/'\n",
    "    root, sub_dir, _ = next(os.walk(path))\n",
    "    total = {}\n",
    "#     uniform = defaultdict(list)\n",
    "#     weight = defaultdict(list)\n",
    "#     target = defaultdict(list)\n",
    "    for sub in sub_dir:\n",
    "        _, _, sub_files = next(os.walk(root + sub))\n",
    "        uniform = {}\n",
    "        weight = {}\n",
    "        target = {}\n",
    "        for file in sub_files:\n",
    "            if \"nii\" not in file and \"threshold\" not in file:\n",
    "                cur_file = h5py.File(root + sub + '/' + file, 'r')\n",
    "                if \"weight\" in file:\n",
    "                    # binary\n",
    "                    weight[str(cur_file[\"shape\"][()])]= cur_file\n",
    "#                     weight[sub].append(cur_file)\n",
    "#                     weight[sub + str(cur_file[\"shape\"][()])]= cur_file\n",
    "                if \"uniform\" in file:\n",
    "                    uniform[str(cur_file[\"shape\"][()])]= cur_file\n",
    "#                     uniform[sub].append(cur_file)\n",
    "#                     uniform[sub + str(cur_file[\"shape\"][()])] = cur_file\n",
    "                if \"target\" in file:\n",
    "                    target[str(cur_file[\"shape\"][()])]= cur_file\n",
    "#                     target[sub].append(cur_file)\n",
    "#                     target[sub + str(cur_file[\"shape\"][()])] = cur_file\n",
    "        total[sub] = [target, uniform, weight]\n",
    "    return total\n",
    "\n",
    "def dice(y_true, y_pred, smooth=1.):\n",
    "    y_true_f = np.array(y_true).flatten()\n",
    "    y_pred_f = np.array(y_pred).flatten()\n",
    "    intersection = np.sum(y_true_f * y_pred_f)\n",
    "    # tensorflow computation graph: will not configure print as one of the graph, unless using tf.Print()\n",
    "    return (2.*intersection+smooth) / (np.sum(y_true_f)+np.sum(y_pred_f)+smooth)\n",
    "# print(dice(merge_target, merge_result>0.02))\n",
    "            \n",
    "total = fetch_file()\n",
    "table = {0: \"target\", 1: \"uniform\", 2: \"weight\"}\n",
    "\n",
    "def calc_thres(output, target):\n",
    "    it = np.arange(0, 1.01, 0.01)\n",
    "    dice_thre = []\n",
    "    for i in it:\n",
    "        dice_thre.append(dice(target, output>i))\n",
    "#     print(dice_thre)\n",
    "    return dice_thre\n",
    "#     plt.plot(it, dice_thre)\n",
    "#     plt.savefig()\n",
    "#     threshold = dice_thre[np.argmax(dice_thre)]\n",
    "        \n",
    "# first uniform:\n",
    "\n",
    "path = os.getcwd() + '/model/h5df_data/recon/'\n",
    "\n",
    "for i in total:\n",
    "    # all, binary, normal\n",
    "    # target: total[i][0]\n",
    "    # uniform: total[i][1]\n",
    "    # weight: total[i][2]\n",
    "    print(i)\n",
    "    for j in range(1, 3):\n",
    "        threshold = np.zeros(101)\n",
    "        for k in total[i][0]:\n",
    "            threshold += calc_thres(total[i][j][k][\"data\"][:], total[i][0][k][\"data\"][:])\n",
    "        threshold /= len(total[i][0])\n",
    "        plt.plot(np.arange(0, 1.01, 0.01), threshold)\n",
    "        plt.savefig(path + i + '/' + table[j] + '_threashold.png')\n",
    "\n",
    "        opt = threshold[np.argmax(threshold)]\n",
    "        for k in total[i][0]:\n",
    "            nib.save(nib.Nifti1Image(np.array(total[i][j][k][\"data\"][:]>opt).astype(int), np.eye(4)), path + i + '/' + os.path.basename(total[i][j][k].filename) + \"_\" + table[j] + \"_threashold.nii.gz\")\n",
    "\n"
   ]
  },
  {
   "cell_type": "code",
   "execution_count": null,
   "metadata": {},
   "outputs": [],
   "source": []
  }
 ],
 "metadata": {
  "kernelspec": {
   "display_name": "Python 3",
   "language": "python",
   "name": "python3"
  },
  "language_info": {
   "codemirror_mode": {
    "name": "ipython",
    "version": 3
   },
   "file_extension": ".py",
   "mimetype": "text/x-python",
   "name": "python",
   "nbconvert_exporter": "python",
   "pygments_lexer": "ipython3",
   "version": "3.6.8"
  }
 },
 "nbformat": 4,
 "nbformat_minor": 2
}
