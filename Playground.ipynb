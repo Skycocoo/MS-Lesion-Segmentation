{
 "cells": [
  {
   "cell_type": "code",
   "execution_count": 1,
   "metadata": {},
   "outputs": [],
   "source": [
    "import os\n",
    "import h5py\n",
    "import nibabel as nib\n",
    "\n",
    "import matplotlib.pyplot as plt\n",
    "import ipywidgets as widgets\n",
    "from ipywidgets import interact, interactive\n",
    "\n",
    "def fetch_file(pattern=\"\"):\n",
    "    path = os.getcwd() + '/model/h5df_data/'\n",
    "    _, _, files = next(os.walk(path))\n",
    "    result = []\n",
    "    for file in files:\n",
    "        if pattern in file:\n",
    "            result.append(h5py.File(path+file, 'r'))\n",
    "    return result\n",
    "\n",
    "\n",
    "def show_image(images):\n",
    "    # show image with [None, None, : ,: ,:] dimension\n",
    "    def show_frame(id):\n",
    "        length = len(images)\n",
    "        for i in range(length):\n",
    "            ax = plt.subplot(1, length, i+1)\n",
    "            if (i == 0):\n",
    "                ax.set_title(\"Input\")\n",
    "            if (i == 1):\n",
    "                ax.set_title(\"Target\")\n",
    "            if (i == 2):\n",
    "                ax.set_title(\"Output\")\n",
    "            plt.imshow(images[i][id, :, :], cmap='gray')\n",
    "    interact(show_frame, \n",
    "             id=widgets.IntSlider(min=0, max=images[0].shape[0]-1, step=1, value=images[0].shape[0]/2))\n"
   ]
  },
  {
   "cell_type": "code",
   "execution_count": 2,
   "metadata": {},
   "outputs": [
    {
     "name": "stdout",
     "output_type": "stream",
     "text": [
      "[<HDF5 file \"pad_data_T1_preprocessed.h5\" (mode r)>]\n",
      "(128, 224, 256) <HDF5 dataset \"(128, 224, 256)\": shape (5, 128, 224, 256), type \"<f8\">\n",
      "(160, 512, 512) <HDF5 dataset \"(160, 512, 512)\": shape (5, 160, 512, 512), type \"<f8\">\n",
      "(288, 352, 352) <HDF5 dataset \"(288, 352, 352)\": shape (5, 288, 352, 352), type \"<f8\">\n",
      "patch_size <HDF5 dataset \"patch_size\": shape (3,), type \"<i8\">\n"
     ]
    },
    {
     "data": {
      "application/vnd.jupyter.widget-view+json": {
       "model_id": "f4b262defa114f129b2326ca9801a51c",
       "version_major": 2,
       "version_minor": 0
      },
      "text/plain": [
       "interactive(children=(IntSlider(value=80, description='id', max=159), Output()), _dom_classes=('widget-interac…"
      ]
     },
     "metadata": {},
     "output_type": "display_data"
    }
   ],
   "source": [
    "files = fetch_file(\"pad_data_T1_preprocessed\")\n",
    "print(files)\n",
    "for i in files[0]:\n",
    "    print(i, files[0][i])\n",
    "\n",
    "show_image([files[0][\"(160, 512, 512)\"][0]])"
   ]
  },
  {
   "cell_type": "code",
   "execution_count": 3,
   "metadata": {},
   "outputs": [
    {
     "data": {
      "application/vnd.jupyter.widget-view+json": {
       "model_id": "9e20b48324a048dc9777bbab10a01fd2",
       "version_major": 2,
       "version_minor": 0
      },
      "text/plain": [
       "interactive(children=(IntSlider(value=80, description='id', max=159), Output()), _dom_classes=('widget-interac…"
      ]
     },
     "metadata": {},
     "output_type": "display_data"
    }
   ],
   "source": [
    "files = fetch_file(\"pad_data_T2_preprocessed\")\n",
    "# print(files)\n",
    "# for i in files[0]:\n",
    "#     print(i, files[0][i])\n",
    "\n",
    "show_image([files[0][\"(160, 512, 512)\"][0]])"
   ]
  },
  {
   "cell_type": "code",
   "execution_count": 8,
   "metadata": {},
   "outputs": [
    {
     "data": {
      "application/vnd.jupyter.widget-view+json": {
       "model_id": "2a6ab212f8204c058662ba30675f4158",
       "version_major": 2,
       "version_minor": 0
      },
      "text/plain": [
       "interactive(children=(IntSlider(value=80, description='id', max=159), Output()), _dom_classes=('widget-interac…"
      ]
     },
     "metadata": {},
     "output_type": "display_data"
    }
   ],
   "source": [
    "files = fetch_file(\"pad_data_FLAIR\")\n",
    "# print(files)\n",
    "# for i in files[0]:\n",
    "#     print(i, files[0][i])\n",
    "show_image([files[0][\"(160, 512, 512)\"][0]])\n"
   ]
  },
  {
   "cell_type": "code",
   "execution_count": 9,
   "metadata": {},
   "outputs": [
    {
     "name": "stdout",
     "output_type": "stream",
     "text": [
      "[<HDF5 file \"pad_target_data.h5\" (mode r)>]\n",
      "(128, 224, 256) <HDF5 dataset \"(128, 224, 256)\": shape (5, 128, 224, 256), type \"<f8\">\n",
      "(160, 512, 512) <HDF5 dataset \"(160, 512, 512)\": shape (5, 160, 512, 512), type \"<f8\">\n",
      "(288, 352, 352) <HDF5 dataset \"(288, 352, 352)\": shape (5, 288, 352, 352), type \"<f8\">\n",
      "patch_size <HDF5 dataset \"patch_size\": shape (3,), type \"<i8\">\n"
     ]
    },
    {
     "data": {
      "application/vnd.jupyter.widget-view+json": {
       "model_id": "a34a258dfd824ced9f8c55fa4e5d7cc0",
       "version_major": 2,
       "version_minor": 0
      },
      "text/plain": [
       "interactive(children=(IntSlider(value=80, description='id', max=159), Output()), _dom_classes=('widget-interac…"
      ]
     },
     "metadata": {},
     "output_type": "display_data"
    }
   ],
   "source": [
    "files = fetch_file(\"pad_target_data\")\n",
    "print(files)\n",
    "for i in files[0]:\n",
    "    print(i, files[0][i])\n",
    "show_image([files[0][\"(160, 512, 512)\"][0]])\n"
   ]
  },
  {
   "cell_type": "code",
   "execution_count": null,
   "metadata": {},
   "outputs": [],
   "source": []
  }
 ],
 "metadata": {
  "kernelspec": {
   "display_name": "Python 3",
   "language": "python",
   "name": "python3"
  },
  "language_info": {
   "codemirror_mode": {
    "name": "ipython",
    "version": 3
   },
   "file_extension": ".py",
   "mimetype": "text/x-python",
   "name": "python",
   "nbconvert_exporter": "python",
   "pygments_lexer": "ipython3",
   "version": "3.6.8"
  }
 },
 "nbformat": 4,
 "nbformat_minor": 2
}
