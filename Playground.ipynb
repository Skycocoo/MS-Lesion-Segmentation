{
 "cells": [
  {
   "cell_type": "code",
   "execution_count": 9,
   "metadata": {},
   "outputs": [],
   "source": [
    "import os\n",
    "import h5py\n",
    "import nibabel as nib\n",
    "\n",
    "import matplotlib.pyplot as plt\n",
    "import ipywidgets as widgets\n",
    "from ipywidgets import interact, interactive\n",
    "\n",
    "def fetch_file(pattern=\"\"):\n",
    "    path = os.getcwd() + '/model/h5df_data/'\n",
    "    _, _, files = next(os.walk(path))\n",
    "    result = []\n",
    "    for file in files:\n",
    "        if pattern in file:\n",
    "            result.append(h5py.File(path+file, 'r'))\n",
    "    return result\n",
    "\n",
    "\n",
    "def show_image(images):\n",
    "    # show image with [None, None, : ,: ,:] dimension\n",
    "    def show_frame(id):\n",
    "        length = len(images)\n",
    "        for i in range(length):\n",
    "            ax = plt.subplot(1, length, i+1)\n",
    "            plt.imshow(images[i][id, :, :], cmap='gray')\n",
    "    interact(show_frame, \n",
    "             id=widgets.IntSlider(min=0, max=images[0].shape[0]-1, step=1, value=images[0].shape[0]/2))\n"
   ]
  },
  {
   "cell_type": "code",
   "execution_count": 15,
   "metadata": {},
   "outputs": [
    {
     "name": "stdout",
     "output_type": "stream",
     "text": [
      "[<HDF5 file \"pad_data_T1_preprocessed.h5\" (mode r)>]\n",
      "(128, 256, 256) <HDF5 dataset \"(128, 256, 256)\": shape (5, 128, 256, 256), type \"<f8\">\n",
      "(192, 512, 512) <HDF5 dataset \"(192, 512, 512)\": shape (5, 192, 512, 512), type \"<f8\">\n",
      "(320, 384, 384) <HDF5 dataset \"(320, 384, 384)\": shape (5, 320, 384, 384), type \"<f8\">\n",
      "patch_size <HDF5 dataset \"patch_size\": shape (3,), type \"<i8\">\n"
     ]
    },
    {
     "data": {
      "application/vnd.jupyter.widget-view+json": {
       "model_id": "fa7e33ffbd884f8e9333715d2fec7192",
       "version_major": 2,
       "version_minor": 0
      },
      "text/plain": [
       "interactive(children=(IntSlider(value=96, description='id', max=191), Output()), _dom_classes=('widget-interac…"
      ]
     },
     "metadata": {},
     "output_type": "display_data"
    }
   ],
   "source": [
    "files = fetch_file(\"pad_data_T1_preprocessed\")\n",
    "print(files)\n",
    "for i in files[0]:\n",
    "    print(i, files[0][i])\n",
    "\n",
    "show_image(files[0][\"(192, 512, 512)\"])"
   ]
  },
  {
   "cell_type": "code",
   "execution_count": 16,
   "metadata": {},
   "outputs": [
    {
     "data": {
      "application/vnd.jupyter.widget-view+json": {
       "model_id": "d79544355fcd4ec1bb98f1343b43cb15",
       "version_major": 2,
       "version_minor": 0
      },
      "text/plain": [
       "interactive(children=(IntSlider(value=96, description='id', max=191), Output()), _dom_classes=('widget-interac…"
      ]
     },
     "metadata": {},
     "output_type": "display_data"
    }
   ],
   "source": [
    "files = fetch_file(\"pad_data_T2_preprocessed\")\n",
    "# print(files)\n",
    "# for i in files[0]:\n",
    "#     print(i, files[0][i])\n",
    "\n",
    "show_image(files[0][\"(192, 512, 512)\"])"
   ]
  },
  {
   "cell_type": "code",
   "execution_count": 18,
   "metadata": {},
   "outputs": [
    {
     "data": {
      "application/vnd.jupyter.widget-view+json": {
       "model_id": "e02c8c4da5594c3e8714d7ca4d6b9b51",
       "version_major": 2,
       "version_minor": 0
      },
      "text/plain": [
       "interactive(children=(IntSlider(value=96, description='id', max=191), Output()), _dom_classes=('widget-interac…"
      ]
     },
     "metadata": {},
     "output_type": "display_data"
    }
   ],
   "source": [
    "files = fetch_file(\"pad_data_FLAIR\")\n",
    "# print(files)\n",
    "# for i in files[0]:\n",
    "#     print(i, files[0][i])\n",
    "\n",
    "show_image(files[0][\"(192, 512, 512)\"])\n"
   ]
  },
  {
   "cell_type": "code",
   "execution_count": 19,
   "metadata": {},
   "outputs": [
    {
     "name": "stdout",
     "output_type": "stream",
     "text": [
      "[<HDF5 file \"pad_target_data.h5\" (mode r)>]\n",
      "(128, 256, 256) <HDF5 dataset \"(128, 256, 256)\": shape (5, 128, 256, 256), type \"<f8\">\n",
      "(192, 512, 512) <HDF5 dataset \"(192, 512, 512)\": shape (5, 192, 512, 512), type \"<f8\">\n",
      "(320, 384, 384) <HDF5 dataset \"(320, 384, 384)\": shape (5, 320, 384, 384), type \"<f8\">\n",
      "patch_size <HDF5 dataset \"patch_size\": shape (3,), type \"<i8\">\n"
     ]
    },
    {
     "data": {
      "application/vnd.jupyter.widget-view+json": {
       "model_id": "37e1f094e5f14103be473ce24b7b4db4",
       "version_major": 2,
       "version_minor": 0
      },
      "text/plain": [
       "interactive(children=(IntSlider(value=96, description='id', max=191), Output()), _dom_classes=('widget-interac…"
      ]
     },
     "metadata": {},
     "output_type": "display_data"
    }
   ],
   "source": [
    "files = fetch_file(\"pad_target_data\")\n",
    "print(files)\n",
    "for i in files[0]:\n",
    "    print(i, files[0][i])\n",
    "show_image(files[0][\"(192, 512, 512)\"])\n"
   ]
  },
  {
   "cell_type": "code",
   "execution_count": null,
   "metadata": {},
   "outputs": [],
   "source": []
  }
 ],
 "metadata": {
  "kernelspec": {
   "display_name": "Python 3",
   "language": "python",
   "name": "python3"
  },
  "language_info": {
   "codemirror_mode": {
    "name": "ipython",
    "version": 3
   },
   "file_extension": ".py",
   "mimetype": "text/x-python",
   "name": "python",
   "nbconvert_exporter": "python",
   "pygments_lexer": "ipython3",
   "version": "3.6.8"
  }
 },
 "nbformat": 4,
 "nbformat_minor": 2
}
