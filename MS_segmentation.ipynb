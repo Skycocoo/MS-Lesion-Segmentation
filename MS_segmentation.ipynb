{
 "cells": [
  {
   "cell_type": "code",
   "execution_count": 14,
   "metadata": {},
   "outputs": [],
   "source": [
    "import nibabel as nib\n",
    "from model import load_data"
   ]
  },
  {
   "cell_type": "code",
   "execution_count": 15,
   "metadata": {},
   "outputs": [],
   "source": [
    "data = load_data.Data()\n",
    "data.load_data()"
   ]
  },
  {
   "cell_type": "code",
   "execution_count": 27,
   "metadata": {},
   "outputs": [
    {
     "name": "stdout",
     "output_type": "stream",
     "text": [
      "(261, 336, 336) (261, 336, 336)\n",
      "(261, 336, 336) (261, 336, 336)\n",
      "(261, 336, 336) (261, 336, 336)\n",
      "(261, 336, 336) (261, 336, 336)\n",
      "(261, 336, 336) (261, 336, 336)\n",
      "(144, 512, 512) (144, 512, 512)\n",
      "(144, 512, 512) (144, 512, 512)\n",
      "(144, 512, 512) (144, 512, 512)\n",
      "(144, 512, 512) (144, 512, 512)\n",
      "(144, 512, 512) (144, 512, 512)\n",
      "(128, 224, 256) (128, 224, 256)\n",
      "(128, 224, 256) (128, 224, 256)\n",
      "(128, 224, 256) (128, 224, 256)\n",
      "(128, 224, 256) (128, 224, 256)\n",
      "(128, 224, 256) (128, 224, 256)\n"
     ]
    }
   ],
   "source": [
    "# for each scanner type (3 in total)\n",
    "for i in data.data:\n",
    "    # for each sample of that scanner (5 for each)\n",
    "    for j in range(len(data.data[i])):\n",
    "        # checkc the shape of the input and target\n",
    "        print(data.data[i][j][0].shape, data.data[i][j][1].shape)"
   ]
  },
  {
   "cell_type": "code",
   "execution_count": null,
   "metadata": {},
   "outputs": [],
   "source": []
  }
 ],
 "metadata": {
  "kernelspec": {
   "display_name": "Python 3",
   "language": "python",
   "name": "python3"
  },
  "language_info": {
   "codemirror_mode": {
    "name": "ipython",
    "version": 3
   },
   "file_extension": ".py",
   "mimetype": "text/x-python",
   "name": "python",
   "nbconvert_exporter": "python",
   "pygments_lexer": "ipython3",
   "version": "3.6.4"
  }
 },
 "nbformat": 4,
 "nbformat_minor": 2
}
