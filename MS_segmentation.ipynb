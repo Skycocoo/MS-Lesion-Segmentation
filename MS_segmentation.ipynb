{
 "cells": [
  {
   "cell_type": "code",
   "execution_count": 6,
   "metadata": {},
   "outputs": [],
   "source": [
    "import nibabel as nib\n",
    "from model import load_data"
   ]
  },
  {
   "cell_type": "code",
   "execution_count": 7,
   "metadata": {},
   "outputs": [
    {
     "name": "stdout",
     "output_type": "stream",
     "text": [
      "['/Users/luoyuxi/Github/MS-Lesion-Segmentation/data/08037ROGU/FLAIR_preprocessed.nii.gz', '/Users/luoyuxi/Github/MS-Lesion-Segmentation/data/01040VANE/FLAIR_preprocessed.nii.gz', '/Users/luoyuxi/Github/MS-Lesion-Segmentation/data/07043SEME/FLAIR_preprocessed.nii.gz', '/Users/luoyuxi/Github/MS-Lesion-Segmentation/data/07040DORE/FLAIR_preprocessed.nii.gz', '/Users/luoyuxi/Github/MS-Lesion-Segmentation/data/01016SACH/FLAIR_preprocessed.nii.gz', '/Users/luoyuxi/Github/MS-Lesion-Segmentation/data/07003SATH/FLAIR_preprocessed.nii.gz', '/Users/luoyuxi/Github/MS-Lesion-Segmentation/data/08027SYBR/FLAIR_preprocessed.nii.gz', '/Users/luoyuxi/Github/MS-Lesion-Segmentation/data/08031SEVE/FLAIR_preprocessed.nii.gz', '/Users/luoyuxi/Github/MS-Lesion-Segmentation/data/01038PAGU/FLAIR_preprocessed.nii.gz', '/Users/luoyuxi/Github/MS-Lesion-Segmentation/data/01042GULE/FLAIR_preprocessed.nii.gz', '/Users/luoyuxi/Github/MS-Lesion-Segmentation/data/07010NABO/FLAIR_preprocessed.nii.gz', '/Users/luoyuxi/Github/MS-Lesion-Segmentation/data/08029IVDI/FLAIR_preprocessed.nii.gz', '/Users/luoyuxi/Github/MS-Lesion-Segmentation/data/08002CHJE/FLAIR_preprocessed.nii.gz', '/Users/luoyuxi/Github/MS-Lesion-Segmentation/data/01039VITE/FLAIR_preprocessed.nii.gz', '/Users/luoyuxi/Github/MS-Lesion-Segmentation/data/07001MOEL/FLAIR_preprocessed.nii.gz']\n"
     ]
    }
   ],
   "source": [
    "data = Data()\n",
    "data.load_data()"
   ]
  },
  {
   "cell_type": "code",
   "execution_count": 8,
   "metadata": {},
   "outputs": [
    {
     "name": "stdout",
     "output_type": "stream",
     "text": [
      "(261, 336, 336)\n",
      "(144, 512, 512)\n",
      "(128, 224, 256)\n",
      "(128, 224, 256)\n",
      "(144, 512, 512)\n",
      "(128, 224, 256)\n",
      "(261, 336, 336)\n",
      "(261, 336, 336)\n",
      "(144, 512, 512)\n",
      "(144, 512, 512)\n",
      "(128, 224, 256)\n",
      "(261, 336, 336)\n",
      "(261, 336, 336)\n",
      "(144, 512, 512)\n",
      "(128, 224, 256)\n"
     ]
    }
   ],
   "source": [
    "for i in data.model_data:\n",
    "    print(i.shape)"
   ]
  },
  {
   "cell_type": "code",
   "execution_count": null,
   "metadata": {},
   "outputs": [],
   "source": []
  }
 ],
 "metadata": {
  "kernelspec": {
   "display_name": "Python 3",
   "language": "python",
   "name": "python3"
  },
  "language_info": {
   "codemirror_mode": {
    "name": "ipython",
    "version": 3
   },
   "file_extension": ".py",
   "mimetype": "text/x-python",
   "name": "python",
   "nbconvert_exporter": "python",
   "pygments_lexer": "ipython3",
   "version": "3.6.4"
  }
 },
 "nbformat": 4,
 "nbformat_minor": 2
}
