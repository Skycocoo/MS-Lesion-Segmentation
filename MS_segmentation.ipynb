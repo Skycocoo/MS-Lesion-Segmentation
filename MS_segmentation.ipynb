{
 "cells": [
  {
   "cell_type": "code",
   "execution_count": 1,
   "metadata": {},
   "outputs": [],
   "source": [
    "# reference: https://github.com/ellisdg/3DUnetCNN/\n",
    "%load_ext autoreload\n",
    "%autoreload 2"
   ]
  },
  {
   "cell_type": "code",
   "execution_count": 2,
   "metadata": {
    "scrolled": false
   },
   "outputs": [],
   "source": [
    "import os\n",
    "\n",
    "config = {}\n",
    "config[\"weights_file\"] = os.getcwd() + '/model/weight'\n",
    "config[\"k_fold\"] = 5\n",
    "config[\"pool_size\"] = (2, 2, 2)  # pool size for the max pooling operations\n",
    "config[\"batch_size\"] = 1\n",
    "config[\"input_shape\"] = (1, None, None, None)\n",
    "config[\"depth\"] = 4 # depth of layers for V/Unet\n",
    "config[\"n_base_filters\"] = 32\n",
    "config[\"patch_shape\"] = (32, 32, 32)  # switch to None to train on the whole image\n",
    "config[\"deconvolution\"] = True  # if False, will use upsampling instead of deconvolution\n",
    "\n",
    "config[\"patience\"] = 10  # learning rate will be reduced after this many epochs if the validation loss is not improving\n",
    "config[\"early_stop\"] = 10  # training will be stopped after this many epochs without the validation loss improving\n",
    "config[\"initial_learning_rate\"] = 0.00001\n",
    "config[\"learning_rate_drop\"] = 0.5  # factor by which the learning rate will be reduced\n",
    "config[\"n_epochs\"] = 1"
   ]
  },
  {
   "cell_type": "code",
   "execution_count": 3,
   "metadata": {},
   "outputs": [
    {
     "name": "stderr",
     "output_type": "stream",
     "text": [
      "Using TensorFlow backend.\n"
     ]
    },
    {
     "name": "stdout",
     "output_type": "stream",
     "text": [
      "shape of data: (144, 512, 512)\n",
      "shape of data: (261, 336, 336)\n",
      "shape of data: (128, 224, 256)\n"
     ]
    }
   ],
   "source": [
    "from model.load_data import *\n",
    "from model.model import *\n",
    "\n",
    "d = Data()\n",
    "d.load_data()\n",
    "# display current shape of MRI images\n",
    "for i in d.data:\n",
    "    print(\"shape of data: {0}\".format(i))\n",
    "    \n",
    "# prepare data for training\n",
    "train_num, valid_num = d.prekfold(config[\"k_fold\"], config[\"batch_size\"])\n",
    "d.preprocess(batch_size=config[\"batch_size\"], pool_size=config[\"pool_size\"], depth=config[\"depth\"])"
   ]
  },
  {
   "cell_type": "code",
   "execution_count": 8,
   "metadata": {},
   "outputs": [
    {
     "name": "stdout",
     "output_type": "stream",
     "text": [
      "12 3\n",
      "----------------------------------------------------------------------------------------------------\n",
      "Fold: 0\n",
      "__________________________________________________________________________________________________\n",
      "Layer (type)                    Output Shape         Param #     Connected to                     \n",
      "==================================================================================================\n",
      "input_2 (InputLayer)            (None, 1, None, None 0                                            \n",
      "__________________________________________________________________________________________________\n",
      "conv3d_16 (Conv3D)              (None, 32, None, Non 896         input_2[0][0]                    \n",
      "__________________________________________________________________________________________________\n",
      "activation_16 (Activation)      (None, 32, None, Non 0           conv3d_16[0][0]                  \n",
      "__________________________________________________________________________________________________\n",
      "conv3d_17 (Conv3D)              (None, 64, None, Non 55360       activation_16[0][0]              \n",
      "__________________________________________________________________________________________________\n",
      "activation_17 (Activation)      (None, 64, None, Non 0           conv3d_17[0][0]                  \n",
      "__________________________________________________________________________________________________\n",
      "max_pooling3d_4 (MaxPooling3D)  (None, 64, None, Non 0           activation_17[0][0]              \n",
      "__________________________________________________________________________________________________\n",
      "conv3d_18 (Conv3D)              (None, 64, None, Non 110656      max_pooling3d_4[0][0]            \n",
      "__________________________________________________________________________________________________\n",
      "activation_18 (Activation)      (None, 64, None, Non 0           conv3d_18[0][0]                  \n",
      "__________________________________________________________________________________________________\n",
      "conv3d_19 (Conv3D)              (None, 128, None, No 221312      activation_18[0][0]              \n",
      "__________________________________________________________________________________________________\n",
      "activation_19 (Activation)      (None, 128, None, No 0           conv3d_19[0][0]                  \n",
      "__________________________________________________________________________________________________\n",
      "max_pooling3d_5 (MaxPooling3D)  (None, 128, None, No 0           activation_19[0][0]              \n",
      "__________________________________________________________________________________________________\n",
      "conv3d_20 (Conv3D)              (None, 128, None, No 442496      max_pooling3d_5[0][0]            \n",
      "__________________________________________________________________________________________________\n",
      "activation_20 (Activation)      (None, 128, None, No 0           conv3d_20[0][0]                  \n",
      "__________________________________________________________________________________________________\n",
      "conv3d_21 (Conv3D)              (None, 256, None, No 884992      activation_20[0][0]              \n",
      "__________________________________________________________________________________________________\n",
      "activation_21 (Activation)      (None, 256, None, No 0           conv3d_21[0][0]                  \n",
      "__________________________________________________________________________________________________\n",
      "max_pooling3d_6 (MaxPooling3D)  (None, 256, None, No 0           activation_21[0][0]              \n",
      "__________________________________________________________________________________________________\n",
      "conv3d_22 (Conv3D)              (None, 256, None, No 1769728     max_pooling3d_6[0][0]            \n",
      "__________________________________________________________________________________________________\n",
      "activation_22 (Activation)      (None, 256, None, No 0           conv3d_22[0][0]                  \n",
      "__________________________________________________________________________________________________\n",
      "conv3d_23 (Conv3D)              (None, 512, None, No 3539456     activation_22[0][0]              \n",
      "__________________________________________________________________________________________________\n",
      "activation_23 (Activation)      (None, 512, None, No 0           conv3d_23[0][0]                  \n",
      "__________________________________________________________________________________________________\n",
      "conv3d_transpose_4 (Conv3DTrans (None, 512, None, No 2097664     activation_23[0][0]              \n",
      "__________________________________________________________________________________________________\n",
      "concatenate_4 (Concatenate)     (None, 768, None, No 0           conv3d_transpose_4[0][0]         \n",
      "                                                                 activation_21[0][0]              \n",
      "__________________________________________________________________________________________________\n",
      "conv3d_24 (Conv3D)              (None, 256, None, No 5308672     concatenate_4[0][0]              \n",
      "__________________________________________________________________________________________________\n",
      "activation_24 (Activation)      (None, 256, None, No 0           conv3d_24[0][0]                  \n",
      "__________________________________________________________________________________________________\n",
      "conv3d_25 (Conv3D)              (None, 256, None, No 1769728     activation_24[0][0]              \n",
      "__________________________________________________________________________________________________\n",
      "activation_25 (Activation)      (None, 256, None, No 0           conv3d_25[0][0]                  \n",
      "__________________________________________________________________________________________________\n",
      "conv3d_transpose_5 (Conv3DTrans (None, 256, None, No 524544      activation_25[0][0]              \n",
      "__________________________________________________________________________________________________\n",
      "concatenate_5 (Concatenate)     (None, 384, None, No 0           conv3d_transpose_5[0][0]         \n",
      "                                                                 activation_19[0][0]              \n",
      "__________________________________________________________________________________________________\n",
      "conv3d_26 (Conv3D)              (None, 128, None, No 1327232     concatenate_5[0][0]              \n",
      "__________________________________________________________________________________________________\n",
      "activation_26 (Activation)      (None, 128, None, No 0           conv3d_26[0][0]                  \n",
      "__________________________________________________________________________________________________\n",
      "conv3d_27 (Conv3D)              (None, 128, None, No 442496      activation_26[0][0]              \n",
      "__________________________________________________________________________________________________\n",
      "activation_27 (Activation)      (None, 128, None, No 0           conv3d_27[0][0]                  \n",
      "__________________________________________________________________________________________________\n",
      "conv3d_transpose_6 (Conv3DTrans (None, 128, None, No 131200      activation_27[0][0]              \n",
      "__________________________________________________________________________________________________\n",
      "concatenate_6 (Concatenate)     (None, 192, None, No 0           conv3d_transpose_6[0][0]         \n",
      "                                                                 activation_17[0][0]              \n",
      "__________________________________________________________________________________________________\n",
      "conv3d_28 (Conv3D)              (None, 64, None, Non 331840      concatenate_6[0][0]              \n",
      "__________________________________________________________________________________________________\n",
      "activation_28 (Activation)      (None, 64, None, Non 0           conv3d_28[0][0]                  \n",
      "__________________________________________________________________________________________________\n",
      "conv3d_29 (Conv3D)              (None, 64, None, Non 110656      activation_28[0][0]              \n",
      "__________________________________________________________________________________________________\n",
      "activation_29 (Activation)      (None, 64, None, Non 0           conv3d_29[0][0]                  \n",
      "__________________________________________________________________________________________________\n",
      "conv3d_30 (Conv3D)              (None, 1, None, None 65          activation_29[0][0]              \n",
      "__________________________________________________________________________________________________\n",
      "activation_30 (Activation)      (None, 1, None, None 0           conv3d_30[0][0]                  \n",
      "==================================================================================================\n",
      "Total params: 19,068,993\n",
      "Trainable params: 19,068,993\n",
      "Non-trainable params: 0\n",
      "__________________________________________________________________________________________________\n",
      "None\n"
     ]
    },
    {
     "name": "stdout",
     "output_type": "stream",
     "text": [
      "Epoch 1/1\n",
      "12/12 [==============================] - 3s 209ms/step - loss: 0.2760 - dice_coefficient: 0.7240 - val_loss: 0.2430 - val_dice_coefficient: 0.7570\n"
     ]
    }
   ],
   "source": [
    "result = []\n",
    "target = []\n",
    "image = []\n",
    "\n",
    "def train(config, data, train_num, valid_num):\n",
    "#     models = []\n",
    "\n",
    "    print(train_num, valid_num)\n",
    "    for i in range(data.kfold):\n",
    "        print ('-'*100)\n",
    "        print (\"Fold:\", i)\n",
    "        model = unet_model_3d(input_shape=config[\"input_shape\"],\n",
    "                              pool_size=config[\"pool_size\"],\n",
    "                              initial_learning_rate=config[\"initial_learning_rate\"],\n",
    "                              deconvolution=config[\"deconvolution\"],\n",
    "                              depth=config[\"depth\"],\n",
    "                              n_base_filters=config[\"n_base_filters\"])\n",
    "        \n",
    "        # print(model.summary())\n",
    "        \n",
    "        callbacks = get_callbacks(config[\"weights_file\"],\n",
    "                                initial_learning_rate=config[\"initial_learning_rate\"],\n",
    "                                learning_rate_drop=config[\"learning_rate_drop\"],\n",
    "                                learning_rate_patience=config[\"patience\"],\n",
    "                                early_stopping_patience=config[\"early_stop\"])\n",
    "\n",
    "        model.fit_generator(generator=data.train_generator(i, batch_size=config[\"batch_size\"]),\n",
    "                            steps_per_epoch=train_num,\n",
    "                            epochs=config[\"n_epochs\"],\n",
    "                            validation_data=data.valid_generator(i),\n",
    "                            validation_steps=valid_num,\n",
    "                            callbacks=callbacks,\n",
    "                            verbose = 1)\n",
    "        \n",
    "        for j in d.valid_index:\n",
    "            valid = d.data[j][i]\n",
    "            image.append(valid[i])\n",
    "            target.append(valid[i])\n",
    "            result.append(model.predict(np.array([valid[i]])))\n",
    "            \n",
    "        break\n",
    "\n",
    "        # models.append(model)\n",
    "\n",
    "train(config, d, train_num, valid_num)"
   ]
  },
  {
   "cell_type": "code",
   "execution_count": 9,
   "metadata": {},
   "outputs": [
    {
     "data": {
      "application/vnd.jupyter.widget-view+json": {
       "model_id": "1ad04a095f624362a75b5e9bb3f43738",
       "version_major": 2,
       "version_minor": 0
      },
      "text/plain": [
       "interactive(children=(IntSlider(value=16, description='id', max=31), Output()), _dom_classes=('widget-interact…"
      ]
     },
     "metadata": {},
     "output_type": "display_data"
    }
   ],
   "source": [
    "import ipywidgets as widgets\n",
    "from ipywidgets import interact, interactive\n",
    "\n",
    "def show_image(images):\n",
    "    def show_frame(id):\n",
    "        length = len(images)\n",
    "        for i in range(length):\n",
    "            plt.subplot(1, length, i+1)\n",
    "            plt.imshow(images[i][0, 0, id, :, :], cmap='gray')\n",
    "    interact(show_frame, id=widgets.IntSlider(min=0, max=images[0].shape[2]-1, step=1, value=images[0].shape[2]/2))\n",
    "\n",
    "sel = next(iter(d.valid_index))\n",
    "show_image([result[0], image[0][None, :, :, :, :], target[0][None, :, :, :, :]])\n"
   ]
  },
  {
   "cell_type": "code",
   "execution_count": 13,
   "metadata": {},
   "outputs": [
    {
     "name": "stdout",
     "output_type": "stream",
     "text": [
      "dice: 0.10647325173109116\n",
      "loss: 0.8935267482689089\n",
      "0.06498596226699233\n",
      "(3, 1, 1, 32, 32, 32)\n"
     ]
    }
   ],
   "source": [
    "dice = 0\n",
    "for i in range(len(result)):\n",
    "    dice += dice_coefficient(target[i], result[i])\n",
    "\n",
    "print(\"dice:\", dice / len(result))\n",
    "print(\"loss:\", 1 - dice / len(result)) \n",
    "\n",
    "print(dice_coefficient(target, result))\n",
    "print(np.array(result).shape)"
   ]
  },
  {
   "cell_type": "code",
   "execution_count": 7,
   "metadata": {},
   "outputs": [],
   "source": [
    "\n",
    "# model = unet_model_3d(input_shape=config[\"input_shape\"],\n",
    "#                               pool_size=config[\"pool_size\"],\n",
    "#                               initial_learning_rate=config[\"initial_learning_rate\"],\n",
    "#                               deconvolution=config[\"deconvolution\"],\n",
    "#                               depth=config[\"depth\"],\n",
    "#                               n_base_filters=config[\"n_base_filters\"])\n",
    "\n",
    "# model.load_weights(os.getcwd() + '/model/weight/weights-10--1.00.hdf5.h5')\n",
    "\n",
    "# for j in d.valid_index:\n",
    "#     valid = d.data[j][0] # fold = 0\n",
    "#     shape = valid[0].shape\n",
    "# #             x = shape[0] // 2\n",
    "# #             y = shape[1] // 2\n",
    "# #             z = shape[2] // 2\n",
    "# #             input = np.array([np.expand_dims(valid[0][x : x + patch_size, y : y + patch_size, z : z + patch_size], axis=0)])\n",
    "# #             result.append(model.predict(input))\n",
    "# #             image.append(input)\n",
    "# #             target.append([np.expand_dims(valid[1][x : x + patch_size, y : y + patch_size, z : z + patch_size], axis=0)])\n",
    "\n",
    "#     input = np.array([np.expand_dims(ndimage.zoom(valid[0], (32/shape[0], 32/shape[1], 32/shape[2])), axis=0)])\n",
    "#     target.append(np.expand_dims(ndimage.zoom(valid[1], (32/shape[0], 32/shape[1], 32/shape[2])), axis=0))\n",
    "#     image.append(input)\n",
    "#     result.append(model.predict(input))\n"
   ]
  }
 ],
 "metadata": {
  "kernelspec": {
   "display_name": "Python 3",
   "language": "python",
   "name": "python3"
  },
  "language_info": {
   "codemirror_mode": {
    "name": "ipython",
    "version": 3
   },
   "file_extension": ".py",
   "mimetype": "text/x-python",
   "name": "python",
   "nbconvert_exporter": "python",
   "pygments_lexer": "ipython3",
   "version": "3.6.8"
  }
 },
 "nbformat": 4,
 "nbformat_minor": 2
}
